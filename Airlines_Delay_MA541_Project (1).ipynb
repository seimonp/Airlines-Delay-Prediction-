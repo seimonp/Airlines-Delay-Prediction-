{
 "cells": [
  {
   "cell_type": "markdown",
   "id": "f52a1ed5",
   "metadata": {
    "id": "f52a1ed5"
   },
   "source": [
    "# DATA ANALYSIS USING STATISTICAL METHODS"
   ]
  },
  {
   "cell_type": "markdown",
   "id": "5e0a41f1",
   "metadata": {
    "id": "5e0a41f1"
   },
   "source": [

   ]
  },
  {
   "cell_type": "markdown",
   "id": "7bc51f14",
   "metadata": {
    "id": "7bc51f14"
   },
   "source": [
    "## Title : Airlines Delay Prediction"
   ]
  },
  {
   "cell_type": "markdown",
   "id": "3c1ce759",
   "metadata": {
    "id": "3c1ce759"
   },
   "source": [
    "## Abstract : "
   ]
  },
  {
   "cell_type": "markdown",
   "id": "9ea35439",
   "metadata": {
    "id": "9ea35439"
   },
   "source": [
    "Airline delays are a major issue in the aviation industry, causing significant disruptions to travelers, airlines, and airport operations. This project focuses on analyzing a dataset containing information about airline flights and their delays, in order to identify patterns and potential causes of delays.\n",
    "The project first performs exploratory data analysis to gain insights into the data. Logistic regression is used to build a model that predicts whether a flight will be delayed or not, based on the available features. Linear model selection and regularization techniques are then applied to the model in order to improve its performance and interpretability.\n",
    "The results of the analysis can be used by airlines and airport operators to improve their operations and reduce delays, ultimately improving the overall customer experience. The project also highlights the importance of data analysis and modeling in identifying and mitigating problems in complex systems like the aviation industry.\n",
    "\n"
   ]
  },
  {
   "cell_type": "markdown",
   "id": "298b1d77",
   "metadata": {
    "id": "298b1d77"
   },
   "source": [
    "## Chapter 1 : Introduction"
   ]
  },
  {
   "cell_type": "markdown",
   "id": "62d44fc5",
   "metadata": {
    "id": "62d44fc5"
   },
   "source": [
    "Airline delays are a pervasive problem in the aviation industry, causing significant disruptions to travelers and operators alike. Delayed flights can result in missed connections, lost revenue for airlines, and increased costs for airports. In addition, delays can negatively impact the overall customer experience, leading to decreased satisfaction and potential loss of future business.\n",
    "\n",
    "The objective of this project is to analyze a dataset containing information about airline flights and their delays, in order to identify patterns and potential causes of delays. The dataset includes variables such as the flight number, airline, departure and arrival airports, day of the week, and length of the flight, among others.\n",
    "\n",
    "The project aims to build a model that predicts whether a flight will be delayed or not, based on the available features. This model can then be used by airlines and airport operators to improve their operations and reduce delays, ultimately improving the overall customer experience.\n",
    "\n"
   ]
  },
  {
   "cell_type": "markdown",
   "id": "cfaedf8a",
   "metadata": {
    "id": "cfaedf8a"
   },
   "source": [
    "## Chapter 2 : Dataset Description"
   ]
  },
  {
   "cell_type": "markdown",
   "id": "9a7c48f2",
   "metadata": {
    "id": "9a7c48f2"
   },
   "source": [
    "\n",
    "\n",
    "The dataset contains information about airline flights and their delays, with 539,382 records and 8 columns. The columns include:\n",
    "\n",
    "* Flight: The flight number\n",
    "* Time: The scheduled departure time of the flight\n",
    "* Length: The duration of the flight in minutes\n",
    "* Airline: The airline carrier\n",
    "* AirportFrom: The departure airport\n",
    "* AirportTo: The arrival airport\n",
    "* DayOfWeek: The day of the week\n",
    "* Class: Whether the flight was delayed (1) or not (0)\n",
    "\n",
    "\n",
    "The dataset contains both numerical and categorical variables. \n",
    "\n",
    "Dataset link : https://www.kaggle.com/datasets/ulrikthygepedersen/airlines-delay?resource=download"
   ]
  },
  {
   "cell_type": "markdown",
   "id": "039ae0b9",
   "metadata": {
    "id": "039ae0b9"
   },
   "source": [
    "# Chapter 3 : Methodologies"
   ]
  },
  {
   "cell_type": "markdown",
   "id": "ea34d2ca",
   "metadata": {
    "id": "ea34d2ca"
   },
   "source": [
    "##  Z-test :\n",
    "Z test is a statistical test used to compare the means of two samples. It is a hypothesis testing method that assumes the two samples are normally distributed and have known population variances. The test calculates a Z-score and determines the probability of observing a sample mean as extreme as the one observed if the null hypothesis is true."
   ]
  },
  {
   "cell_type": "markdown",
   "id": "5e275824",
   "metadata": {
    "id": "5e275824"
   },
   "source": [
    "## F test for ANOVA:\n",
    "F test, also known as the Analysis of Variance (ANOVA) test, is used to determine whether the means of two or more samples are equal or not. It tests whether there is a significant difference between the means of the samples, and it is a hypothesis testing method that compares the variances of the samples."
   ]
  },
  {
   "cell_type": "markdown",
   "id": "c47b35eb",
   "metadata": {
    "id": "c47b35eb"
   },
   "source": [
    "## Tukey's test:\n",
    "Tukey's test is a post-hoc test used after an ANOVA to determine which pairs of means are significantly different from each other. It compares all possible pairwise combinations of group means and calculates a confidence interval for each comparison. If the confidence interval does not include zero, the two means are considered significantly differen"
   ]
  },
  {
   "cell_type": "markdown",
   "id": "066a15a9",
   "metadata": {
    "id": "066a15a9"
   },
   "source": [
    "## Chi-square test:\n",
    "Chi-square test is a statistical method used to test the independence of categorical variables. It is used to determine whether there is a significant association between two categorical variables. The test calculates a chi-square statistic and compares it to a critical value to determine whether the variables are dependent or independent."
   ]
  },
  {
   "attachments": {
    "34.webp": {
     "image/webp": "[encoded data removed]"
    }
   },
   "cell_type": "markdown",
   "id": "345be1c9",
   "metadata": {
    "id": "345be1c9"
   },
   "source": [
    "![34.webp](attachment:34.webp)"
   ]
  },
  {
   "cell_type": "markdown",
   "id": "68d2a444",
   "metadata": {
    "id": "68d2a444"
   },
   "source": [
    "## Linear regression:\n",
    "Linear regression is a statistical method used to model the relationship between two continuous variables. It involves fitting a line to the data to determine the strength and direction of the relationship between the variables. The line is determined using the least squares method, which minimizes the sum of the squared residuals."
   ]
  },
  {
   "attachments": {
    "a27d24_e9c02dbb8bbd4d39b027d43f8160fe81~mv2.png": {
     "image/png": "[encoded data removed]"
    }
   },
   "cell_type": "markdown",
   "id": "d6562450",
   "metadata": {
    "id": "d6562450"
   },
   "source": [
    "![a27d24_e9c02dbb8bbd4d39b027d43f8160fe81~mv2.png](attachment:a27d24_e9c02dbb8bbd4d39b027d43f8160fe81~mv2.png)"
   ]
  },
  {
   "cell_type": "markdown",
   "id": "40c15ea5",
   "metadata": {
    "id": "40c15ea5"
   },
   "source": [
    "## Logistic regression:\n",
    "Logistic regression is a statistical method used to model the relationship between a binary dependent variable and one or more independent variables. It is used to determine the probability of an event occurring, given a set of predictors. The method uses a logistic function to model the relationship between the dependent and independent variables."
   ]
  },
  {
   "cell_type": "markdown",
   "id": "70e4c5d4",
   "metadata": {
    "id": "70e4c5d4"
   },
   "source": [
    "## Resampling methods: cross-validation, bootstrapping:\n",
    "\n",
    "* Cross-validation is a method that involves dividing the data into k subsets, training the model on k-1 subsets and testing it on the remaining subset. \n",
    "\n",
    "* Bootstrapping is a method that involves randomly sampling the data with replacement to create multiple datasets and fitting the model to each dataset."
   ]
  },
  {
   "cell_type": "markdown",
   "id": "fd3c9582",
   "metadata": {
    "id": "fd3c9582"
   },
   "source": [
    "## Forward selection:\n",
    "Forward selection is a variable selection method used in linear regression. It involves starting with no variables and adding variables one by one to the model, based on the improvement in the model's fit."
   ]
  },
  {
   "cell_type": "markdown",
   "id": "8111e0aa",
   "metadata": {
    "id": "8111e0aa"
   },
   "source": [
    "## Backward selection:\n",
    "Backward selection is a variable selection method used in linear regression. It involves starting with all variables in the model and removing variables one by one, based on the improvement in the model's fit."
   ]
  },
  {
   "cell_type": "markdown",
   "id": "b367d66e",
   "metadata": {
    "id": "b367d66e"
   },
   "source": [
    "## Splines:\n",
    "Splines are a statistical method used to model non-linear relationships between variables. They involve dividing the data into smaller segments and fitting a polynomial function to each segment. The functions are then joined together at the breakpoints to create a smooth curve."
   ]
  },
  {
   "cell_type": "markdown",
   "id": "540bcc72",
   "metadata": {
    "id": "540bcc72"
   },
   "source": [
    "## Polynomial regression:\n",
    "Polynomial regression is a statistical method used to model non-linear relationships between variables. It involves fitting a polynomial function to the data, where the degree of the polynomial determines the shape of the curve. The method can be used to model relationships that are not well-fit by linear regression."
   ]
  },
  {
   "attachments": {
    "Screenshot%202023-05-01%20at%2010.46.13%20AM.png": {
     "image/png": "[encoded data removed]"
    }
   },
   "cell_type": "markdown",
   "id": "43592d33",
   "metadata": {
    "id": "43592d33"
   },
   "source": [
    "![Screenshot%202023-05-01%20at%2010.46.13%20AM.png](attachment:Screenshot%202023-05-01%20at%2010.46.13%20AM.png)"
   ]
  },
  {
   "cell_type": "code",
   "execution_count": null,
   "id": "96d757e2",
   "metadata": {
    "id": "96d757e2"
   },
   "outputs": [],
   "source": [
    "#Import all necessary libraries"
   ]
  },
  {
   "cell_type": "code",
   "execution_count": 1,
   "id": "EuVNQpfQetje",
   "metadata": {
    "colab": {
     "base_uri": "https://localhost:8080/",
     "height": 0
    },
    "id": "EuVNQpfQetje",
    "outputId": "c7c8ce31-354b-40f7-845e-2b60b551c632"
   },
   "outputs": [
    {
     "name": "stdout",
     "output_type": "stream",
     "text": [
      "Looking in indexes: https://pypi.org/simple, https://us-python.pkg.dev/colab-wheels/public/simple/\n",
      "Requirement already satisfied: joblib in /usr/local/lib/python3.10/dist-packages (1.2.0)\n"
     ]
    }
   ],
   "source": [
    "pip install joblib\n"
   ]
  },
  {
   "cell_type": "code",
   "execution_count": 2,
   "id": "c2ROVDS5etPL",
   "metadata": {
    "colab": {
     "base_uri": "https://localhost:8080/",
     "height": 0
    },
    "id": "c2ROVDS5etPL",
    "outputId": "3492d830-af2a-44c4-8cf8-0a5050b504e8"
   },
   "outputs": [
    {
     "name": "stdout",
     "output_type": "stream",
     "text": [
      "Looking in indexes: https://pypi.org/simple, https://us-python.pkg.dev/colab-wheels/public/simple/\n",
      "Requirement already satisfied: mlxtend in /usr/local/lib/python3.10/dist-packages (0.14.0)\n",
      "Collecting mlxtend\n",
      "  Downloading mlxtend-0.22.0-py2.py3-none-any.whl (1.4 MB)\n",
      "\u001b[2K     \u001b[90m━━━━━━━━━━━━━━━━━━━━━━━━━━━━━━━━━━━━━━━━\u001b[0m \u001b[32m1.4/1.4 MB\u001b[0m \u001b[31m15.8 MB/s\u001b[0m eta \u001b[36m0:00:00\u001b[0m\n",
      "\u001b[?25hRequirement already satisfied: scipy>=1.2.1 in /usr/local/lib/python3.10/dist-packages (from mlxtend) (1.10.1)\n",
      "Requirement already satisfied: numpy>=1.16.2 in /usr/local/lib/python3.10/dist-packages (from mlxtend) (1.22.4)\n",
      "Requirement already satisfied: pandas>=0.24.2 in /usr/local/lib/python3.10/dist-packages (from mlxtend) (1.5.3)\n",
      "Requirement already satisfied: scikit-learn>=1.0.2 in /usr/local/lib/python3.10/dist-packages (from mlxtend) (1.2.2)\n",
      "Requirement already satisfied: matplotlib>=3.0.0 in /usr/local/lib/python3.10/dist-packages (from mlxtend) (3.7.1)\n",
      "Requirement already satisfied: joblib>=0.13.2 in /usr/local/lib/python3.10/dist-packages (from mlxtend) (1.2.0)\n",
      "Requirement already satisfied: setuptools in /usr/local/lib/python3.10/dist-packages (from mlxtend) (67.7.2)\n",
      "Requirement already satisfied: contourpy>=1.0.1 in /usr/local/lib/python3.10/dist-packages (from matplotlib>=3.0.0->mlxtend) (1.0.7)\n",
      "Requirement already satisfied: cycler>=0.10 in /usr/local/lib/python3.10/dist-packages (from matplotlib>=3.0.0->mlxtend) (0.11.0)\n",
      "Requirement already satisfied: fonttools>=4.22.0 in /usr/local/lib/python3.10/dist-packages (from matplotlib>=3.0.0->mlxtend) (4.39.3)\n",
      "Requirement already satisfied: kiwisolver>=1.0.1 in /usr/local/lib/python3.10/dist-packages (from matplotlib>=3.0.0->mlxtend) (1.4.4)\n",
      "Requirement already satisfied: packaging>=20.0 in /usr/local/lib/python3.10/dist-packages (from matplotlib>=3.0.0->mlxtend) (23.1)\n",
      "Requirement already satisfied: pillow>=6.2.0 in /usr/local/lib/python3.10/dist-packages (from matplotlib>=3.0.0->mlxtend) (8.4.0)\n",
      "Requirement already satisfied: pyparsing>=2.3.1 in /usr/local/lib/python3.10/dist-packages (from matplotlib>=3.0.0->mlxtend) (3.0.9)\n",
      "Requirement already satisfied: python-dateutil>=2.7 in /usr/local/lib/python3.10/dist-packages (from matplotlib>=3.0.0->mlxtend) (2.8.2)\n",
      "Requirement already satisfied: pytz>=2020.1 in /usr/local/lib/python3.10/dist-packages (from pandas>=0.24.2->mlxtend) (2022.7.1)\n",
      "Requirement already satisfied: threadpoolctl>=2.0.0 in /usr/local/lib/python3.10/dist-packages (from scikit-learn>=1.0.2->mlxtend) (3.1.0)\n",
      "Requirement already satisfied: six>=1.5 in /usr/local/lib/python3.10/dist-packages (from python-dateutil>=2.7->matplotlib>=3.0.0->mlxtend) (1.16.0)\n",
      "Installing collected packages: mlxtend\n",
      "  Attempting uninstall: mlxtend\n",
      "    Found existing installation: mlxtend 0.14.0\n",
      "    Uninstalling mlxtend-0.14.0:\n",
      "      Successfully uninstalled mlxtend-0.14.0\n",
      "Successfully installed mlxtend-0.22.0\n"
     ]
    }
   ],
   "source": [
    "pip install --upgrade mlxtend"
   ]
  },
  {
   "cell_type": "code",
   "execution_count": 2,
   "id": "9b7e9c04",
   "metadata": {
    "id": "9b7e9c04"
   },
   "outputs": [],
   "source": [
    "import numpy as np\n",
    "import pandas as pd\n",
    "import matplotlib.pyplot as plt\n",
    "import seaborn as sns\n",
    "from scipy.stats import f_oneway\n",
    "from statsmodels.stats.weightstats import ztest\n",
    "from sklearn.preprocessing import LabelEncoder\n",
    "from scipy import stats\n",
    "from statsmodels.stats.multicomp import pairwise_tukeyhsd\n",
    "from sklearn.model_selection import train_test_split, GridSearchCV, KFold, cross_val_score\n",
    "from sklearn.linear_model import LinearRegression, LogisticRegression, Ridge, Lasso\n",
    "from sklearn.metrics import accuracy_score, confusion_matrix, mean_squared_error, precision_score, recall_score, f1_score, r2_score\n",
    "from sklearn.preprocessing import PolynomialFeatures\n",
    "from mlxtend.feature_selection import SequentialFeatureSelector as SFS\n",
    "from imblearn.over_sampling import RandomOverSampler\n",
    "from joblib import Parallel, delayed\n",
    "from sklearn.pipeline import make_pipeline\n",
    "from sklearn.preprocessing import StandardScaler\n",
    "from patsy import dmatrix\n"
   ]
  },
  {
   "cell_type": "code",
   "execution_count": 3,
   "id": "500e3feb",
   "metadata": {
    "id": "500e3feb"
   },
   "outputs": [],
   "source": [
    "data = pd.read_csv(\"airlines_delay.csv\")"
   ]
  },
  {
   "cell_type": "code",
   "execution_count": 4,
   "id": "67acf153",
   "metadata": {
    "colab": {
     "base_uri": "https://localhost:8080/",
     "height": 0
    },
    "id": "67acf153",
    "outputId": "c7ed5f7c-7d19-43d4-aa65-b72a3bdbd86d"
   },
   "outputs": [
    {
     "data": {
      "text/plain": [
       "(539382, 8)"
      ]
     },
     "execution_count": 4,
     "metadata": {},
     "output_type": "execute_result"
    }
   ],
   "source": [
    "data.shape"
   ]
  },
  {
   "cell_type": "code",
   "execution_count": 5,
   "id": "27d553ab",
   "metadata": {
    "colab": {
     "base_uri": "https://localhost:8080/",
     "height": 206
    },
    "id": "27d553ab",
    "outputId": "4bb1be08-3f5f-4f01-c4bd-9d2d26a6d95c"
   },
   "outputs": [
    {
     "data": {
      "text/html": [
       "<div>\n",
       "<style scoped>\n",
       "    .dataframe tbody tr th:only-of-type {\n",
       "        vertical-align: middle;\n",
       "    }\n",
       "\n",
       "    .dataframe tbody tr th {\n",
       "        vertical-align: top;\n",
       "    }\n",
       "\n",
       "    .dataframe thead th {\n",
       "        text-align: right;\n",
       "    }\n",
       "</style>\n",
       "<table border=\"1\" class=\"dataframe\">\n",
       "  <thead>\n",
       "    <tr style=\"text-align: right;\">\n",
       "      <th></th>\n",
       "      <th>Flight</th>\n",
       "      <th>Time</th>\n",
       "      <th>Length</th>\n",
       "      <th>Airline</th>\n",
       "      <th>AirportFrom</th>\n",
       "      <th>AirportTo</th>\n",
       "      <th>DayOfWeek</th>\n",
       "      <th>Class</th>\n",
       "    </tr>\n",
       "  </thead>\n",
       "  <tbody>\n",
       "    <tr>\n",
       "      <th>0</th>\n",
       "      <td>2313.0</td>\n",
       "      <td>1296.0</td>\n",
       "      <td>141.0</td>\n",
       "      <td>DL</td>\n",
       "      <td>ATL</td>\n",
       "      <td>HOU</td>\n",
       "      <td>1</td>\n",
       "      <td>0</td>\n",
       "    </tr>\n",
       "    <tr>\n",
       "      <th>1</th>\n",
       "      <td>6948.0</td>\n",
       "      <td>360.0</td>\n",
       "      <td>146.0</td>\n",
       "      <td>OO</td>\n",
       "      <td>COS</td>\n",
       "      <td>ORD</td>\n",
       "      <td>4</td>\n",
       "      <td>0</td>\n",
       "    </tr>\n",
       "    <tr>\n",
       "      <th>2</th>\n",
       "      <td>1247.0</td>\n",
       "      <td>1170.0</td>\n",
       "      <td>143.0</td>\n",
       "      <td>B6</td>\n",
       "      <td>BOS</td>\n",
       "      <td>CLT</td>\n",
       "      <td>3</td>\n",
       "      <td>0</td>\n",
       "    </tr>\n",
       "    <tr>\n",
       "      <th>3</th>\n",
       "      <td>31.0</td>\n",
       "      <td>1410.0</td>\n",
       "      <td>344.0</td>\n",
       "      <td>US</td>\n",
       "      <td>OGG</td>\n",
       "      <td>PHX</td>\n",
       "      <td>6</td>\n",
       "      <td>0</td>\n",
       "    </tr>\n",
       "    <tr>\n",
       "      <th>4</th>\n",
       "      <td>563.0</td>\n",
       "      <td>692.0</td>\n",
       "      <td>98.0</td>\n",
       "      <td>FL</td>\n",
       "      <td>BMI</td>\n",
       "      <td>ATL</td>\n",
       "      <td>4</td>\n",
       "      <td>0</td>\n",
       "    </tr>\n",
       "  </tbody>\n",
       "</table>\n",
       "</div>"
      ],
      "text/plain": [
       "   Flight    Time  Length Airline AirportFrom AirportTo  DayOfWeek  Class\n",
       "0  2313.0  1296.0   141.0      DL         ATL       HOU          1      0\n",
       "1  6948.0   360.0   146.0      OO         COS       ORD          4      0\n",
       "2  1247.0  1170.0   143.0      B6         BOS       CLT          3      0\n",
       "3    31.0  1410.0   344.0      US         OGG       PHX          6      0\n",
       "4   563.0   692.0    98.0      FL         BMI       ATL          4      0"
      ]
     },
     "execution_count": 5,
     "metadata": {},
     "output_type": "execute_result"
    }
   ],
   "source": [
    "data.head()"
   ]
  },
  {
   "cell_type": "code",
   "execution_count": 6,
   "id": "78e70f69",
   "metadata": {
    "colab": {
     "base_uri": "https://localhost:8080/",
     "height": 0
    },
    "id": "78e70f69",
    "outputId": "03ae824f-54d1-4d10-bf33-36de5acae199",
    "scrolled": false
   },
   "outputs": [
    {
     "data": {
      "text/plain": [
       "Flight         0\n",
       "Time           0\n",
       "Length         0\n",
       "Airline        0\n",
       "AirportFrom    0\n",
       "AirportTo      0\n",
       "DayOfWeek      0\n",
       "Class          0\n",
       "dtype: int64"
      ]
     },
     "execution_count": 6,
     "metadata": {},
     "output_type": "execute_result"
    }
   ],
   "source": [
    "data.isna().sum()"
   ]
  },
  {
   "cell_type": "code",
   "execution_count": 7,
   "id": "b73afef6",
   "metadata": {
    "colab": {
     "base_uri": "https://localhost:8080/",
     "height": 0
    },
    "id": "b73afef6",
    "outputId": "408228ed-78db-4279-d316-eafb1edc3b08"
   },
   "outputs": [
    {
     "data": {
      "text/plain": [
       "Flight         0\n",
       "Time           0\n",
       "Length         0\n",
       "Airline        0\n",
       "AirportFrom    0\n",
       "AirportTo      0\n",
       "DayOfWeek      0\n",
       "Class          0\n",
       "dtype: int64"
      ]
     },
     "execution_count": 7,
     "metadata": {},
     "output_type": "execute_result"
    }
   ],
   "source": [
    "data = data.dropna()\n",
    "data.isna().sum()"
   ]
  },
  {
   "cell_type": "code",
   "execution_count": 8,
   "id": "d8541e27",
   "metadata": {
    "colab": {
     "base_uri": "https://localhost:8080/",
     "height": 0
    },
    "id": "d8541e27",
    "outputId": "9fa4da52-0943-4328-e652-cb92a700779f"
   },
   "outputs": [
    {
     "data": {
      "text/plain": [
       "Index(['Flight', 'Time', 'Length', 'Airline', 'AirportFrom', 'AirportTo',\n",
       "       'DayOfWeek', 'Class'],\n",
       "      dtype='object')"
      ]
     },
     "execution_count": 8,
     "metadata": {},
     "output_type": "execute_result"
    }
   ],
   "source": [
    "data.columns"
   ]
  },
  {
   "cell_type": "code",
   "execution_count": 9,
   "id": "42df3ce3",
   "metadata": {
    "colab": {
     "base_uri": "https://localhost:8080/",
     "height": 0
    },
    "id": "42df3ce3",
    "outputId": "bff8214a-8444-40cd-b573-466b2d3d75e4"
   },
   "outputs": [
    {
     "name": "stdout",
     "output_type": "stream",
     "text": [
      "<class 'pandas.core.frame.DataFrame'>\n",
      "Int64Index: 539382 entries, 0 to 539381\n",
      "Data columns (total 8 columns):\n",
      " #   Column       Non-Null Count   Dtype  \n",
      "---  ------       --------------   -----  \n",
      " 0   Flight       539382 non-null  float64\n",
      " 1   Time         539382 non-null  float64\n",
      " 2   Length       539382 non-null  float64\n",
      " 3   Airline      539382 non-null  object \n",
      " 4   AirportFrom  539382 non-null  object \n",
      " 5   AirportTo    539382 non-null  object \n",
      " 6   DayOfWeek    539382 non-null  int64  \n",
      " 7   Class        539382 non-null  int64  \n",
      "dtypes: float64(3), int64(2), object(3)\n",
      "memory usage: 37.0+ MB\n"
     ]
    }
   ],
   "source": [
    "data.info()"
   ]
  },
  {
   "cell_type": "code",
   "execution_count": 10,
   "id": "823fc0ab",
   "metadata": {
    "colab": {
     "base_uri": "https://localhost:8080/",
     "height": 300
    },
    "id": "823fc0ab",
    "outputId": "b07afa31-e174-4f21-948e-f5f805bd18bb"
   },
   "outputs": [
    {
     "data": {
      "text/html": [
       "<div>\n",
       "<style scoped>\n",
       "    .dataframe tbody tr th:only-of-type {\n",
       "        vertical-align: middle;\n",
       "    }\n",
       "\n",
       "    .dataframe tbody tr th {\n",
       "        vertical-align: top;\n",
       "    }\n",
       "\n",
       "    .dataframe thead th {\n",
       "        text-align: right;\n",
       "    }\n",
       "</style>\n",
       "<table border=\"1\" class=\"dataframe\">\n",
       "  <thead>\n",
       "    <tr style=\"text-align: right;\">\n",
       "      <th></th>\n",
       "      <th>Flight</th>\n",
       "      <th>Time</th>\n",
       "      <th>Length</th>\n",
       "      <th>DayOfWeek</th>\n",
       "      <th>Class</th>\n",
       "    </tr>\n",
       "  </thead>\n",
       "  <tbody>\n",
       "    <tr>\n",
       "      <th>count</th>\n",
       "      <td>539382.000000</td>\n",
       "      <td>539382.000000</td>\n",
       "      <td>539382.000000</td>\n",
       "      <td>539382.000000</td>\n",
       "      <td>539382.000000</td>\n",
       "    </tr>\n",
       "    <tr>\n",
       "      <th>mean</th>\n",
       "      <td>2427.927988</td>\n",
       "      <td>802.728161</td>\n",
       "      <td>132.202104</td>\n",
       "      <td>3.929666</td>\n",
       "      <td>0.445443</td>\n",
       "    </tr>\n",
       "    <tr>\n",
       "      <th>std</th>\n",
       "      <td>2067.431700</td>\n",
       "      <td>278.045546</td>\n",
       "      <td>70.117045</td>\n",
       "      <td>1.914666</td>\n",
       "      <td>0.497015</td>\n",
       "    </tr>\n",
       "    <tr>\n",
       "      <th>min</th>\n",
       "      <td>1.000000</td>\n",
       "      <td>10.000000</td>\n",
       "      <td>0.000000</td>\n",
       "      <td>1.000000</td>\n",
       "      <td>0.000000</td>\n",
       "    </tr>\n",
       "    <tr>\n",
       "      <th>25%</th>\n",
       "      <td>712.000000</td>\n",
       "      <td>565.000000</td>\n",
       "      <td>81.000000</td>\n",
       "      <td>2.000000</td>\n",
       "      <td>0.000000</td>\n",
       "    </tr>\n",
       "    <tr>\n",
       "      <th>50%</th>\n",
       "      <td>1809.000000</td>\n",
       "      <td>795.000000</td>\n",
       "      <td>115.000000</td>\n",
       "      <td>4.000000</td>\n",
       "      <td>0.000000</td>\n",
       "    </tr>\n",
       "    <tr>\n",
       "      <th>75%</th>\n",
       "      <td>3745.000000</td>\n",
       "      <td>1035.000000</td>\n",
       "      <td>162.000000</td>\n",
       "      <td>5.000000</td>\n",
       "      <td>1.000000</td>\n",
       "    </tr>\n",
       "    <tr>\n",
       "      <th>max</th>\n",
       "      <td>7814.000000</td>\n",
       "      <td>1439.000000</td>\n",
       "      <td>655.000000</td>\n",
       "      <td>7.000000</td>\n",
       "      <td>1.000000</td>\n",
       "    </tr>\n",
       "  </tbody>\n",
       "</table>\n",
       "</div>"
      ],
      "text/plain": [
       "              Flight           Time         Length      DayOfWeek  \\\n",
       "count  539382.000000  539382.000000  539382.000000  539382.000000   \n",
       "mean     2427.927988     802.728161     132.202104       3.929666   \n",
       "std      2067.431700     278.045546      70.117045       1.914666   \n",
       "min         1.000000      10.000000       0.000000       1.000000   \n",
       "25%       712.000000     565.000000      81.000000       2.000000   \n",
       "50%      1809.000000     795.000000     115.000000       4.000000   \n",
       "75%      3745.000000    1035.000000     162.000000       5.000000   \n",
       "max      7814.000000    1439.000000     655.000000       7.000000   \n",
       "\n",
       "               Class  \n",
       "count  539382.000000  \n",
       "mean        0.445443  \n",
       "std         0.497015  \n",
       "min         0.000000  \n",
       "25%         0.000000  \n",
       "50%         0.000000  \n",
       "75%         1.000000  \n",
       "max         1.000000  "
      ]
     },
     "execution_count": 10,
     "metadata": {},
     "output_type": "execute_result"
    }
   ],
   "source": [
    "data.describe()"
   ]
  },
  {
   "cell_type": "code",
   "execution_count": 11,
   "id": "b2347d97",
   "metadata": {
    "colab": {
     "base_uri": "https://localhost:8080/",
     "height": 467
    },
    "id": "b2347d97",
    "outputId": "15b2531a-14d9-4e8f-892f-8f19b5b98351",
    "scrolled": true
   },
   "outputs": [
    {
     "data": {
      "text/plain": [
       "<AxesSubplot:xlabel='Airline', ylabel='count'>"
      ]
     },
     "execution_count": 11,
     "metadata": {},
     "output_type": "execute_result"
    },
    {
     "data": {
      "image/png": "[encoded data removed]",
      "text/plain": [
       "<Figure size 432x288 with 1 Axes>"
      ]
     },
     "metadata": {
      "needs_background": "light"
     },
     "output_type": "display_data"
    }
   ],
   "source": [
    "sns.countplot(x='Airline', hue='Class', data=data)"
   ]
  },
  {
   "cell_type": "code",
   "execution_count": 12,
   "id": "6c0e410c",
   "metadata": {
    "colab": {
     "base_uri": "https://localhost:8080/",
     "height": 467
    },
    "id": "6c0e410c",
    "outputId": "87347f26-0fe7-44bc-ae50-6b490151cf3c",
    "scrolled": true
   },
   "outputs": [
    {
     "data": {
      "text/plain": [
       "<AxesSubplot:xlabel='Airline', ylabel='Length'>"
      ]
     },
     "execution_count": 12,
     "metadata": {},
     "output_type": "execute_result"
    },
    {
     "data": {
      "image/png": "[encoded data removed]",
      "text/plain": [
       "<Figure size 432x288 with 1 Axes>"
      ]
     },
     "metadata": {
      "needs_background": "light"
     },
     "output_type": "display_data"
    }
   ],
   "source": [
    "sns.barplot(x='Airline', y='Length', data=data)"
   ]
  },
  {
   "cell_type": "markdown",
   "id": "81533a7e",
   "metadata": {
    "id": "81533a7e"
   },
   "source": [
    "Insights:- Here we see CO and UA have longest average flight time.\n"
   ]
  },
  {
   "cell_type": "code",
   "execution_count": 13,
   "id": "8c214cbc",
   "metadata": {
    "colab": {
     "base_uri": "https://localhost:8080/",
     "height": 467
    },
    "id": "8c214cbc",
    "outputId": "3e152e8b-ca61-4dad-cc78-af3f0ec43d2b",
    "scrolled": true
   },
   "outputs": [
    {
     "data": {
      "text/plain": [
       "<AxesSubplot:xlabel='Airline', ylabel='Time'>"
      ]
     },
     "execution_count": 13,
     "metadata": {},
     "output_type": "execute_result"
    },
    {
     "data": {
      "image/png": "[encoded data removed]",
      "text/plain": [
       "<Figure size 432x288 with 1 Axes>"
      ]
     },
     "metadata": {
      "needs_background": "light"
     },
     "output_type": "display_data"
    }
   ],
   "source": [
    "sns.barplot(x='Airline', y='Time', data=data)\n"
   ]
  },
  {
   "cell_type": "markdown",
   "id": "3927f835",
   "metadata": {
    "id": "3927f835"
   },
   "source": [
    "Almost all flights have the same departure time"
   ]
  },
  {
   "cell_type": "code",
   "execution_count": 14,
   "id": "9a01fa2b",
   "metadata": {
    "colab": {
     "base_uri": "https://localhost:8080/",
     "height": 509
    },
    "id": "9a01fa2b",
    "outputId": "47b88eaf-d5d7-4904-ab85-0f599bcc983d",
    "scrolled": true
   },
   "outputs": [
    {
     "data": {
      "text/plain": [
       "<AxesSubplot:>"
      ]
     },
     "execution_count": 14,
     "metadata": {},
     "output_type": "execute_result"
    },
    {
     "data": {
      "image/png": "[encoded data removed]",
      "text/plain": [
       "<Figure size 432x288 with 2 Axes>"
      ]
     },
     "metadata": {
      "needs_background": "light"
     },
     "output_type": "display_data"
    }
   ],
   "source": [
    "corr = data.corr()\n",
    "sns.heatmap(corr, annot=True, cmap='coolwarm')\n"
   ]
  },
  {
   "cell_type": "markdown",
   "id": "6532fee2",
   "metadata": {
    "id": "6532fee2"
   },
   "source": [
    "# 4.1 Comparing 2 samples"
   ]
  },
  {
   "cell_type": "code",
   "execution_count": 43,
   "id": "0d7f5802",
   "metadata": {
    "id": "0d7f5802",
    "scrolled": true
   },
   "outputs": [],
   "source": [
    "# Splitting the dataset into two samples based on the 'AIRLINE' variable\n",
    "sample1 = data[data['Airline'] == 'AA']['Class']\n",
    "sample2 = data[data['Airline'] == 'UA']['Class']"
   ]
  },
  {
   "cell_type": "code",
   "execution_count": 44,
   "id": "5db03a24",
   "metadata": {
    "colab": {
     "base_uri": "https://localhost:8080/",
     "height": 0
    },
    "id": "5db03a24",
    "outputId": "9574d904-baf5-4ddb-c053-15ad5ad50068"
   },
   "outputs": [
    {
     "data": {
      "text/plain": [
       "<bound method Series.count of 7         0\n",
       "89        0\n",
       "92        0\n",
       "94        0\n",
       "99        0\n",
       "         ..\n",
       "539313    1\n",
       "539336    1\n",
       "539338    1\n",
       "539339    1\n",
       "539342    1\n",
       "Name: Class, Length: 45656, dtype: int64>"
      ]
     },
     "execution_count": 44,
     "metadata": {},
     "output_type": "execute_result"
    }
   ],
   "source": [
    "sample1.count"
   ]
  },
  {
   "cell_type": "code",
   "execution_count": 45,
   "id": "aa231be9",
   "metadata": {
    "colab": {
     "base_uri": "https://localhost:8080/",
     "height": 0
    },
    "id": "aa231be9",
    "outputId": "bca91b80-7bb1-4cb9-929f-cb76dc615b5c",
    "scrolled": false
   },
   "outputs": [
    {
     "data": {
      "text/plain": [
       "<bound method Series.count of 25        0\n",
       "31        0\n",
       "37        0\n",
       "40        0\n",
       "42        0\n",
       "         ..\n",
       "539234    1\n",
       "539288    1\n",
       "539307    1\n",
       "539320    1\n",
       "539351    1\n",
       "Name: Class, Length: 27619, dtype: int64>"
      ]
     },
     "execution_count": 45,
     "metadata": {},
     "output_type": "execute_result"
    }
   ],
   "source": [
    "sample2.count"
   ]
  },
  {
   "cell_type": "markdown",
   "id": "209364e8",
   "metadata": {
    "id": "209364e8"
   },
   "source": [
    "### As sample size>30, we use Z-test to compare the 2 samples\n",
    "* H0 = There is no significant difference between the two sample means.\n",
    "* H1 = There is significant difference between the two sample means."
   ]
  },
  {
   "cell_type": "code",
   "execution_count": 46,
   "id": "bcbe1962",
   "metadata": {
    "colab": {
     "base_uri": "https://localhost:8080/",
     "height": 0
    },
    "id": "bcbe1962",
    "outputId": "a2aa6726-f5a0-4bd1-ecd6-5829b45444a4",
    "scrolled": true
   },
   "outputs": [
    {
     "name": "stdout",
     "output_type": "stream",
     "text": [
      "Reject null hypothesis\n"
     ]
    }
   ],
   "source": [
    "z_stat, p_value = ztest(sample1, sample2)\n",
    "alpha = 0.05\n",
    "\n",
    "if p_value < alpha:\n",
    "    print(f\"Reject null hypothesis\")\n",
    "else:\n",
    "    print(f\"Failed to reject null hypothesis\")"
   ]
  },
  {
   "cell_type": "markdown",
   "id": "4ca9309b",
   "metadata": {
    "id": "4ca9309b"
   },
   "source": [
    "### Conclusion : We reject the null hypothesis and conclude that there is significant difference between the 2 sample means\n"
   ]
  },
  {
   "cell_type": "markdown",
   "id": "fc3c0c69",
   "metadata": {
    "id": "fc3c0c69"
   },
   "source": [
    "#### Shapiro test for normality (as an experiment)"
   ]
  },
  {
   "cell_type": "code",
   "execution_count": 51,
   "id": "9d6691da",
   "metadata": {
    "id": "9d6691da"
   },
   "outputs": [],
   "source": [
    "le = LabelEncoder()\n",
    "data['Airline'] = le.fit_transform(data['Airline'])\n",
    "data['AirportFrom'] = le.fit_transform(data['AirportFrom'])\n",
    "data['AirportTo'] = le.fit_transform(data['AirportTo'])\n",
    "data['Flight'] = le.fit_transform(data['Flight'])"
   ]
  },
  {
   "cell_type": "code",
   "execution_count": 52,
   "id": "79fcb4b2",
   "metadata": {
    "colab": {
     "base_uri": "https://localhost:8080/",
     "height": 0
    },
    "id": "79fcb4b2",
    "outputId": "dd47976f-2c48-4e67-833b-53b3c82e2176"
   },
   "outputs": [
    {
     "name": "stdout",
     "output_type": "stream",
     "text": [
      "Data is not Normally distributed (reject H0)\n"
     ]
    },
    {
     "name": "stderr",
     "output_type": "stream",
     "text": [
      "/usr/local/lib/python3.10/dist-packages/scipy/stats/_morestats.py:1816: UserWarning: p-value may not be accurate for N > 5000.\n",
      "  warnings.warn(\"p-value may not be accurate for N > 5000.\")\n"
     ]
    }
   ],
   "source": [
    "from scipy.stats import shapiro\n",
    "\n",
    "stat, p = shapiro(data)\n",
    "alpha = 0.05\n",
    "if p > alpha:\n",
    "    print('Data is Normally distributed (fail to reject H0)')\n",
    "else:\n",
    "    print('Data is not Normally distributed (reject H0)')\n"
   ]
  },
  {
   "cell_type": "markdown",
   "id": "28932159",
   "metadata": {
    "id": "28932159"
   },
   "source": [
    "### Therefore, as the sample size is large enough for the Central Limit Theorem to apply, we used the z-test\n",
    "### Conclusion : There is significant difference between the 2 means of the samples\n"
   ]
  },
  {
   "cell_type": "markdown",
   "id": "fe2f9b20",
   "metadata": {
    "id": "fe2f9b20"
   },
   "source": [
    "# 4.2 Analysis of Variance (ANOVA)"
   ]
  },
  {
   "cell_type": "markdown",
   "id": "f5d038a6",
   "metadata": {
    "id": "f5d038a6"
   },
   "source": [
    "### Using F-test"
   ]
  },
  {
   "cell_type": "code",
   "execution_count": 49,
   "id": "041afff9",
   "metadata": {
    "id": "041afff9"
   },
   "outputs": [],
   "source": [
    "new_data = data.copy()\n",
    "new_data = new_data[(new_data['Airline'] != 'NK') & (new_data['Airline'] != 'VK')]\n"
   ]
  },
  {
   "cell_type": "markdown",
   "id": "4924f74f",
   "metadata": {
    "id": "4924f74f"
   },
   "source": [
    "* H0 = There is no significant difference in the means of the different groups\n",
    "* H1 = There is significant difference in the means of the different groups"
   ]
  },
  {
   "cell_type": "code",
   "execution_count": 50,
   "id": "28248ca4",
   "metadata": {
    "colab": {
     "base_uri": "https://localhost:8080/",
     "height": 0
    },
    "id": "28248ca4",
    "outputId": "406a8eb2-e9c7-46f3-f385-36636c878a6f",
    "scrolled": true
   },
   "outputs": [
    {
     "name": "stdout",
     "output_type": "stream",
     "text": [
      "F-statistic:  2918.6095435149787\n",
      "p-value:  0.0\n"
     ]
    }
   ],
   "source": [
    "#Perform ANOVA to check if there is a significant difference in the means of the different groups using F-test\n",
    "f_stat, p_value = f_oneway(new_data[new_data['Airline'] == 'AA']['Class'], \n",
    "                           new_data[new_data['Airline'] == 'UA']['Class'], \n",
    "                           new_data[new_data['Airline'] == 'DL']['Class'],\n",
    "                           new_data[new_data['Airline'] == 'AS']['Class'],\n",
    "                           new_data[new_data['Airline'] == 'B6']['Class'],\n",
    "                           new_data[new_data['Airline'] == 'EV']['Class'],\n",
    "                           new_data[new_data['Airline'] == 'F9']['Class'],\n",
    "                           new_data[new_data['Airline'] == 'HA']['Class'],\n",
    "                           new_data[new_data['Airline'] == 'MQ']['Class'],\n",
    "                           new_data[new_data['Airline'] == 'OO']['Class'],\n",
    "                           new_data[new_data['Airline'] == 'US']['Class'],\n",
    "                           new_data[new_data['Airline'] == 'WN']['Class'])\n",
    "                         \n",
    "\n",
    "print(\"F-statistic: \", f_stat)\n",
    "print(\"p-value: \", p_value)\n",
    "#Comparing 12 airlines with the Class i.e. the target variable"
   ]
  },
  {
   "cell_type": "markdown",
   "id": "f11d31a6",
   "metadata": {
    "id": "f11d31a6"
   },
   "source": [
    "\n",
    "## As F-statistic is greater than p-value, we reject the null hypothesis, there is difference in the means of the different groups so we perform the Tukey's test\n",
    "### Tukey's Test "
   ]
  },
  {
   "cell_type": "code",
   "execution_count": null,
   "id": "037108fd",
   "metadata": {
    "colab": {
     "base_uri": "https://localhost:8080/"
    },
    "id": "037108fd",
    "outputId": "3a78f9cb-8448-44f6-845c-e7541cbebfa9"
   },
   "outputs": [
    {
     "name": "stdout",
     "output_type": "stream",
     "text": [
      "Multiple Comparison of Means - Tukey HSD, FWER=0.05 \n",
      "====================================================\n",
      "group1 group2 meandiff p-adj   lower   upper  reject\n",
      "----------------------------------------------------\n",
      "    9E     AA  -0.0092 0.6642 -0.0232  0.0048  False\n",
      "    9E     AS  -0.0584  0.001 -0.0778 -0.0389   True\n",
      "    9E     B6   0.0694  0.001  0.0524  0.0864   True\n",
      "    9E     CO   0.1685  0.001  0.1522  0.1849   True\n",
      "    9E     DL   0.0528  0.001  0.0394  0.0663   True\n",
      "    9E     EV   0.0045    0.9 -0.0108  0.0199  False\n",
      "    9E     F9   0.0514  0.001  0.0275  0.0752   True\n",
      "    9E     FL  -0.0964  0.001 -0.1128   -0.08   True\n",
      "    9E     HA  -0.0775  0.001 -0.1027 -0.0523   True\n",
      "    9E     MQ  -0.0496  0.001 -0.0641  -0.035   True\n",
      "    9E     OH  -0.1204  0.001 -0.1393 -0.1015   True\n",
      "    9E     OO   0.0552  0.001  0.0414   0.069   True\n",
      "    9E     UA  -0.0738  0.001 -0.0891 -0.0584   True\n",
      "    9E     US  -0.0617  0.001 -0.0764  -0.047   True\n",
      "    9E     WN   0.3001  0.001  0.2873  0.3129   True\n",
      "    9E     XE  -0.0187 0.0018 -0.0337 -0.0037   True\n",
      "    9E     YV  -0.1547  0.001 -0.1731 -0.1363   True\n",
      "    AA     AS  -0.0492  0.001 -0.0666 -0.0317   True\n",
      "    AA     B6   0.0786  0.001  0.0639  0.0932   True\n",
      "    AA     CO   0.1777  0.001  0.1638  0.1916   True\n",
      "    AA     DL    0.062  0.001  0.0517  0.0724   True\n",
      "    AA     EV   0.0137 0.0186   0.001  0.0264   True\n",
      "    AA     F9   0.0606  0.001  0.0383  0.0828   True\n",
      "    AA     FL  -0.0872  0.001 -0.1012 -0.0732   True\n",
      "    AA     HA  -0.0683  0.001  -0.092 -0.0446   True\n",
      "    AA     MQ  -0.0404  0.001 -0.0521 -0.0286   True\n",
      "    AA     OH  -0.1112  0.001  -0.128 -0.0944   True\n",
      "    AA     OO   0.0644  0.001  0.0536  0.0752   True\n",
      "    AA     UA  -0.0646  0.001 -0.0773 -0.0518   True\n",
      "    AA     US  -0.0525  0.001 -0.0644 -0.0406   True\n",
      "    AA     WN   0.3093  0.001  0.2998  0.3188   True\n",
      "    AA     XE  -0.0095 0.3799 -0.0218  0.0028  False\n",
      "    AA     YV  -0.1456  0.001 -0.1618 -0.1293   True\n",
      "    AS     B6   0.1277  0.001  0.1078  0.1477   True\n",
      "    AS     CO   0.2269  0.001  0.2075  0.2463   True\n",
      "    AS     DL   0.1112  0.001  0.0942  0.1282   True\n",
      "    AS     EV   0.0629  0.001  0.0444  0.0814   True\n",
      "    AS     F9   0.1097  0.001  0.0837  0.1358   True\n",
      "    AS     FL   -0.038  0.001 -0.0574 -0.0186   True\n",
      "    AS     HA  -0.0191 0.5633 -0.0464  0.0082  False\n",
      "    AS     MQ   0.0088    0.9 -0.0091  0.0267  False\n",
      "    AS     OH   -0.062  0.001 -0.0836 -0.0405   True\n",
      "    AS     OO   0.1136  0.001  0.0963  0.1309   True\n",
      "    AS     UA  -0.0154 0.2579 -0.0339  0.0032  False\n",
      "    AS     US  -0.0033    0.9 -0.0213  0.0147  False\n",
      "    AS     WN   0.3585  0.001  0.3419   0.375   True\n",
      "    AS     XE   0.0397  0.001  0.0214  0.0579   True\n",
      "    AS     YV  -0.0964  0.001 -0.1175 -0.0752   True\n",
      "    B6     CO   0.0992  0.001  0.0822  0.1161   True\n",
      "    B6     DL  -0.0166 0.0057 -0.0307 -0.0024   True\n",
      "    B6     EV  -0.0648  0.001 -0.0808 -0.0489   True\n",
      "    B6     F9   -0.018 0.4641 -0.0422  0.0062  False\n",
      "    B6     FL  -0.1657  0.001 -0.1827 -0.1488   True\n",
      "    B6     HA  -0.1469  0.001 -0.1724 -0.1213   True\n",
      "    B6     MQ  -0.1189  0.001 -0.1341 -0.1037   True\n",
      "    B6     OH  -0.1898  0.001 -0.2091 -0.1704   True\n",
      "    B6     OO  -0.0141 0.0655 -0.0286  0.0003  False\n",
      "    B6     UA  -0.1431  0.001 -0.1591 -0.1271   True\n",
      "    B6     US  -0.1311  0.001 -0.1464 -0.1157   True\n",
      "    B6     WN   0.2307  0.001  0.2172  0.2443   True\n",
      "    B6     XE  -0.0881  0.001 -0.1037 -0.0725   True\n",
      "    B6     YV  -0.2241  0.001  -0.243 -0.2052   True\n",
      "    CO     DL  -0.1157  0.001 -0.1291 -0.1024   True\n",
      "    CO     EV   -0.164  0.001 -0.1792 -0.1488   True\n",
      "    CO     F9  -0.1172  0.001 -0.1409 -0.0934   True\n",
      "    CO     FL  -0.2649  0.001 -0.2812 -0.2486   True\n",
      "    CO     HA   -0.246  0.001 -0.2712 -0.2208   True\n",
      "    CO     MQ  -0.2181  0.001 -0.2325 -0.2037   True\n",
      "    CO     OH  -0.2889  0.001 -0.3077 -0.2701   True\n",
      "    CO     OO  -0.1133  0.001  -0.127 -0.0996   True\n",
      "    CO     UA  -0.2423  0.001 -0.2576  -0.227   True\n",
      "    CO     US  -0.2302  0.001 -0.2448 -0.2156   True\n",
      "    CO     WN   0.1316  0.001  0.1188  0.1443   True\n",
      "    CO     XE  -0.1873  0.001 -0.2022 -0.1724   True\n",
      "    CO     YV  -0.3233  0.001 -0.3416  -0.305   True\n",
      "    DL     EV  -0.0483  0.001 -0.0603 -0.0362   True\n",
      "    DL     F9  -0.0014    0.9 -0.0233  0.0204  False\n",
      "    DL     FL  -0.1492  0.001 -0.1626 -0.1358   True\n",
      "    DL     HA  -0.1303  0.001 -0.1537 -0.1069   True\n",
      "    DL     MQ  -0.1024  0.001 -0.1134 -0.0913   True\n",
      "    DL     OH  -0.1732  0.001 -0.1895 -0.1569   True\n",
      "    DL     OO   0.0024    0.9 -0.0076  0.0125  False\n",
      "    DL     UA  -0.1266  0.001 -0.1387 -0.1144   True\n",
      "    DL     US  -0.1145  0.001 -0.1258 -0.1032   True\n",
      "    DL     WN   0.2473  0.001  0.2386   0.256   True\n",
      "    DL     XE  -0.0715  0.001 -0.0832 -0.0599   True\n",
      "    DL     YV  -0.2076  0.001 -0.2234 -0.1918   True\n",
      "    EV     F9   0.0468  0.001  0.0238  0.0699   True\n",
      "    EV     FL  -0.1009  0.001 -0.1162 -0.0856   True\n",
      "    EV     HA   -0.082  0.001 -0.1065 -0.0575   True\n",
      "    EV     MQ  -0.0541  0.001 -0.0674 -0.0408   True\n",
      "    EV     OH  -0.1249  0.001 -0.1429  -0.107   True\n",
      "    EV     OO   0.0507  0.001  0.0382  0.0632   True\n",
      "    EV     UA  -0.0783  0.001 -0.0925 -0.0641   True\n",
      "    EV     US  -0.0662  0.001 -0.0797 -0.0528   True\n",
      "    EV     WN   0.2956  0.001  0.2842  0.3069   True\n",
      "    EV     XE  -0.0233  0.001  -0.037 -0.0095   True\n",
      "    EV     YV  -0.1593  0.001 -0.1767 -0.1419   True\n",
      "    F9     FL  -0.1477  0.001 -0.1716 -0.1239   True\n",
      "    F9     HA  -0.1289  0.001 -0.1594 -0.0983   True\n",
      "    F9     MQ  -0.1009  0.001 -0.1235 -0.0784   True\n",
      "    F9     OH  -0.1718  0.001 -0.1973 -0.1462   True\n",
      "    F9     OO   0.0039    0.9 -0.0182   0.026  False\n",
      "    F9     UA  -0.1251  0.001 -0.1482  -0.102   True\n",
      "    F9     US  -0.1131  0.001 -0.1357 -0.0904   True\n",
      "    F9     WN   0.2487  0.001  0.2272  0.2702   True\n",
      "    F9     XE  -0.0701  0.001  -0.093 -0.0472   True\n",
      "    F9     YV  -0.2061  0.001 -0.2314 -0.1809   True\n",
      "    FL     HA   0.0189 0.4466 -0.0063  0.0441  False\n",
      "    FL     MQ   0.0468  0.001  0.0323  0.0613   True\n",
      "    FL     OH   -0.024 0.0012 -0.0429 -0.0052   True\n",
      "    FL     OO   0.1516  0.001  0.1378  0.1654   True\n",
      "    FL     UA   0.0226  0.001  0.0073   0.038   True\n",
      "    FL     US   0.0347  0.001    0.02  0.0493   True\n",
      "    FL     WN   0.3965  0.001  0.3837  0.4093   True\n",
      "    FL     XE   0.0777  0.001  0.0627  0.0926   True\n",
      "    FL     YV  -0.0584  0.001 -0.0768   -0.04   True\n",
      "    HA     MQ   0.0279 0.0064  0.0039  0.0519   True\n",
      "    HA     OH  -0.0429  0.001 -0.0698  -0.016   True\n",
      "    HA     OO   0.1327  0.001  0.1091  0.1563   True\n",
      "    HA     UA   0.0037    0.9 -0.0208  0.0283  False\n",
      "    HA     US   0.0158 0.6679 -0.0083  0.0399  False\n",
      "    HA     WN   0.3776  0.001  0.3545  0.4006   True\n",
      "    HA     XE   0.0588  0.001  0.0345  0.0831   True\n",
      "    HA     YV  -0.0773  0.001 -0.1038 -0.0507   True\n",
      "    MQ     OH  -0.0708  0.001 -0.0881 -0.0536   True\n",
      "    MQ     OO   0.1048  0.001  0.0933  0.1163   True\n",
      "    MQ     UA  -0.0242  0.001 -0.0375 -0.0109   True\n",
      "    MQ     US  -0.0121  0.072 -0.0247  0.0004  False\n",
      "    MQ     WN   0.3497  0.001  0.3394    0.36   True\n",
      "    MQ     XE   0.0308  0.001   0.018  0.0437   True\n",
      "    MQ     YV  -0.1052  0.001 -0.1219 -0.0885   True\n",
      "    OH     OO   0.1756  0.001   0.159  0.1923   True\n",
      "    OH     UA   0.0466  0.001  0.0287  0.0646   True\n",
      "    OH     US   0.0587  0.001  0.0413  0.0761   True\n",
      "    OH     WN   0.4205  0.001  0.4046  0.4363   True\n",
      "    OH     XE   0.1017  0.001   0.084  0.1193   True\n",
      "    OH     YV  -0.0344  0.001  -0.055 -0.0138   True\n",
      "    OO     UA   -0.129  0.001 -0.1415 -0.1165   True\n",
      "    OO     US  -0.1169  0.001 -0.1286 -0.1052   True\n",
      "    OO     WN   0.2449  0.001  0.2356  0.2541   True\n",
      "    OO     XE   -0.074  0.001  -0.086 -0.0619   True\n",
      "    OO     YV    -0.21  0.001 -0.2261 -0.1939   True\n",
      "    UA     US   0.0121 0.1481 -0.0014  0.0256  False\n",
      "    UA     WN   0.3739  0.001  0.3624  0.3853   True\n",
      "    UA     XE    0.055  0.001  0.0412  0.0689   True\n",
      "    UA     YV   -0.081  0.001 -0.0984 -0.0635   True\n",
      "    US     WN   0.3618  0.001  0.3513  0.3723   True\n",
      "    US     XE    0.043  0.001  0.0299   0.056   True\n",
      "    US     YV  -0.0931  0.001 -0.1099 -0.0762   True\n",
      "    WN     XE  -0.3188  0.001 -0.3297 -0.3079   True\n",
      "    WN     YV  -0.4548  0.001 -0.4701 -0.4396   True\n",
      "    XE     YV   -0.136  0.001 -0.1532 -0.1189   True\n",
      "----------------------------------------------------\n"
     ]
    }
   ],
   "source": [
    "# Perform Tukey's test\n",
    "tukey_results = pairwise_tukeyhsd(data['Class'], data['Airline'], alpha=0.05)\n",
    "print(tukey_results)"
   ]
  },
  {
   "cell_type": "markdown",
   "id": "778f6199",
   "metadata": {
    "id": "778f6199"
   },
   "source": [
    "### Conclusion : There are a few groups that have significantly different means. As we can see the 'reject' column with False indicates that that these groups have different means. "
   ]
  },
  {
   "cell_type": "markdown",
   "id": "0daf76aa",
   "metadata": {
    "id": "0daf76aa"
   },
   "source": [
    "# 4.3 Analysis of Categorical Data: "
   ]
  },
  {
   "cell_type": "code",
   "execution_count": 53,
   "id": "e029d3ae",
   "metadata": {
    "colab": {
     "base_uri": "https://localhost:8080/",
     "height": 1000
    },
    "id": "e029d3ae",
    "outputId": "df6663da-0e12-4e46-e999-34322d4f4c0b"
   },
   "outputs": [
    {
     "data": {
      "image/png": "[encoded data removed]",
      "text/plain": [
       "<Figure size 1000x600 with 1 Axes>"
      ]
     },
     "metadata": {},
     "output_type": "display_data"
    },
    {
     "data": {
      "image/png": "[encoded data removed]",
      "text/plain": [
       "<Figure size 1000x600 with 1 Axes>"
      ]
     },
     "metadata": {},
     "output_type": "display_data"
    },
    {
     "data": {
      "image/png": "[encoded data removed]",
      "text/plain": [
       "<Figure size 1000x600 with 1 Axes>"
      ]
     },
     "metadata": {},
     "output_type": "display_data"
    }
   ],
   "source": [
    "cat_cols = ['Airline', 'DayOfWeek', 'Class']\n",
    "\n",
    "#Plotting bar charts for the categorical variables\n",
    "for col in cat_cols:\n",
    "    plt.figure(figsize=(10,6))\n",
    "    data[col].value_counts().plot(kind='bar')\n",
    "    plt.title(col)\n",
    "    plt.show()\n"
   ]
  },
  {
   "cell_type": "code",
   "execution_count": null,
   "id": "dbb06241",
   "metadata": {
    "colab": {
     "base_uri": "https://localhost:8080/",
     "height": 1000
    },
    "id": "dbb06241",
    "outputId": "d63eb1f1-02a0-4b56-e9b6-bd2e4f69096c",
    "scrolled": true
   },
   "outputs": [
    {
     "data": {
      "image/png": "[encoded data removed]",
      "text/plain": [
       "<Figure size 720x720 with 1 Axes>"
      ]
     },
     "metadata": {},
     "output_type": "display_data"
    },
    {
     "data": {
      "image/png": "[encoded data removed]",
      "text/plain": [
       "<Figure size 720x720 with 1 Axes>"
      ]
     },
     "metadata": {},
     "output_type": "display_data"
    },
    {
     "data": {
      "image/png": "[encoded data removed]",
      "text/plain": [
       "<Figure size 720x720 with 1 Axes>"
      ]
     },
     "metadata": {},
     "output_type": "display_data"
    }
   ],
   "source": [
    "for col in cat_cols:\n",
    "    plt.figure(figsize=(10,10))\n",
    "    data[col].value_counts().plot(kind='pie', autopct='%1.1f%%')\n",
    "    plt.title(col)\n",
    "    plt.show()\n",
    "    "
   ]
  },
  {
   "cell_type": "code",
   "execution_count": null,
   "id": "445a9f15",
   "metadata": {
    "id": "445a9f15",
    "outputId": "f75c4d3a-c0bb-4e85-bde6-1379e69fb11e"
   },
   "outputs": [
    {
     "data": {
      "text/plain": [
       "<AxesSubplot:xlabel='Airline', ylabel='count'>"
      ]
     },
     "execution_count": 27,
     "metadata": {},
     "output_type": "execute_result"
    },
    {
     "data": {
      "image/png": "[encoded data removed]",
      "text/plain": [
       "<Figure size 432x288 with 1 Axes>"
      ]
     },
     "metadata": {
      "needs_background": "light"
     },
     "output_type": "display_data"
    }
   ],
   "source": [
    "sns.countplot(x='Airline', hue='Class', data=data)"
   ]
  },
  {
   "cell_type": "markdown",
   "id": "743d240b",
   "metadata": {
    "id": "743d240b"
   },
   "source": [
    " Here we see WN is the heighest delay than others airliness\n",
    "\n"
   ]
  },
  {
   "cell_type": "code",
   "execution_count": null,
   "id": "97b4396b",
   "metadata": {
    "id": "97b4396b",
    "outputId": "e131f68b-ddd7-48b4-99c5-47276f61c565"
   },
   "outputs": [
    {
     "data": {
      "text/plain": [
       "<AxesSubplot:xlabel='Airline', ylabel='Length'>"
      ]
     },
     "execution_count": 26,
     "metadata": {},
     "output_type": "execute_result"
    },
    {
     "data": {
      "image/png": "[encoded data removed]",
      "text/plain": [
       "<Figure size 432x288 with 1 Axes>"
      ]
     },
     "metadata": {
      "needs_background": "light"
     },
     "output_type": "display_data"
    }
   ],
   "source": [
    "sns.barplot(x='Airline', y='Length', data=data);"
   ]
  },
  {
   "cell_type": "markdown",
   "id": "5b256a95",
   "metadata": {
    "id": "5b256a95"
   },
   "source": [
    "Here we see CO and UA have longest average flight time."
   ]
  },
  {
   "cell_type": "code",
   "execution_count": null,
   "id": "901dc467",
   "metadata": {
    "id": "901dc467",
    "outputId": "3ec3966d-0809-470c-94fe-d8da7d0c2713",
    "scrolled": true
   },
   "outputs": [
    {
     "data": {
      "text/plain": [
       "<AxesSubplot:xlabel='Airline', ylabel='Time'>"
      ]
     },
     "execution_count": 29,
     "metadata": {},
     "output_type": "execute_result"
    },
    {
     "data": {
      "image/png": "[encoded data removed]",
      "text/plain": [
       "<Figure size 432x288 with 1 Axes>"
      ]
     },
     "metadata": {
      "needs_background": "light"
     },
     "output_type": "display_data"
    }
   ],
   "source": [
    "sns.barplot(x='Airline', y='Time', data=data)"
   ]
  },
  {
   "cell_type": "markdown",
   "id": "3b744f17",
   "metadata": {
    "id": "3b744f17"
   },
   "source": [
    " Here we see almost all of the flights have same departure time"
   ]
  },
  {
   "cell_type": "markdown",
   "id": "a86266b7",
   "metadata": {
    "id": "a86266b7"
   },
   "source": [
    "## Perform Chi-square test to check dependency of categorical variables on \"Class\" attribute"
   ]
  },
  {
   "cell_type": "markdown",
   "id": "cc25a4ac",
   "metadata": {
    "id": "cc25a4ac"
   },
   "source": [
    "### H0 : there is no significant dependency between the categorical variables and 'Class'"
   ]
  },
  {
   "cell_type": "markdown",
   "id": "c787d7b4",
   "metadata": {
    "id": "c787d7b4"
   },
   "source": [
    "### H1 : there is a significant association between the categorical variables and 'Class'"
   ]
  },
  {
   "cell_type": "code",
   "execution_count": 54,
   "id": "d78feb9b",
   "metadata": {
    "id": "d78feb9b"
   },
   "outputs": [],
   "source": [
    "from scipy.stats import chi2_contingency\n",
    "#Create contingency tables for categorical columns\n",
    "contingency_table_airline = pd.crosstab(data['Airline'], data['Class'])\n",
    "contingency_table_airportfrom = pd.crosstab(data['AirportFrom'], data['Class'])\n",
    "contingency_table_airportto = pd.crosstab(data['AirportTo'], data['Class'])\n",
    "contingency_table_dayofweek = pd.crosstab(data['DayOfWeek'], data['Class'])\n",
    "contingency_table_flight = pd.crosstab(data['Flight'], data['Class'])\n",
    "contingency_table_length = pd.crosstab(data['Length'], data['Class'])\n"
   ]
  },
  {
   "cell_type": "code",
   "execution_count": 55,
   "id": "14a051b8",
   "metadata": {
    "colab": {
     "base_uri": "https://localhost:8080/",
     "height": 0
    },
    "id": "14a051b8",
    "outputId": "4f8e9e97-51ff-4d65-fdb9-5644603229ab"
   },
   "outputs": [
    {
     "name": "stdout",
     "output_type": "stream",
     "text": [
      "Airline - chi2: 38193.243961480395, p-value: 0.0\n",
      "AirportFrom - chi2: 17463.744643958886, p-value: 0.0\n",
      "AirportTo - chi2: 15145.026396765354, p-value: 0.0\n",
      "DayOfWeek - chi2: 1178.019697223239, p-value: 2.7350340365614405e-251\n",
      "Flight - chi2: 29607.849723638767, p-value: 0.0\n",
      "Length - chi2: 9809.960312746814, p-value: 0.0\n"
     ]
    }
   ],
   "source": [
    "# Perform chi-square tests for the Categorical Variables\n",
    "\n",
    "chi2, p, dof, expected = stats.chi2_contingency(contingency_table_airline)\n",
    "print(f\"Airline - chi2: {chi2}, p-value: {p}\")\n",
    "\n",
    "chi2, p, dof, expected = stats.chi2_contingency(contingency_table_airportfrom)\n",
    "print(f\"AirportFrom - chi2: {chi2}, p-value: {p}\")\n",
    "\n",
    "chi2, p, dof, expected = stats.chi2_contingency(contingency_table_airportto)\n",
    "print(f\"AirportTo - chi2: {chi2}, p-value: {p}\")\n",
    "\n",
    "chi2, p, dof, expected = stats.chi2_contingency(contingency_table_dayofweek)\n",
    "print(f\"DayOfWeek - chi2: {chi2}, p-value: {p}\")\n",
    "\n",
    "chi2, p, dof, expected = stats.chi2_contingency(contingency_table_flight)\n",
    "print(f\"Flight - chi2: {chi2}, p-value: {p}\")\n",
    "\n",
    "chi2, p, dof, expected = stats.chi2_contingency(contingency_table_length)\n",
    "print(f\"Length - chi2: {chi2}, p-value: {p}\")\n"
   ]
  },
  {
   "cell_type": "markdown",
   "id": "3bedeeab",
   "metadata": {
    "id": "3bedeeab"
   },
   "source": [
    "## Conclusion : As p-value for the contingency tables is less than 0.05, we can reject the null hypothesis and conclude that there is a significant association between the categorical variables and 'Class' "
   ]
  },
  {
   "cell_type": "markdown",
   "id": "46469cac",
   "metadata": {
    "id": "46469cac"
   },
   "source": [
    "# 4.4 Logistic Regression "
   ]
  },
  {
   "cell_type": "code",
   "execution_count": null,
   "id": "042034b0",
   "metadata": {
    "colab": {
     "base_uri": "https://localhost:8080/",
     "height": 75
    },
    "id": "042034b0",
    "outputId": "b83831c7-ce03-483e-b64d-400b8e2966ad",
    "scrolled": true
   },
   "outputs": [
    {
     "data": {
      "text/html": [
       "<style>#sk-container-id-1 {color: black;background-color: white;}#sk-container-id-1 pre{padding: 0;}#sk-container-id-1 div.sk-toggleable {background-color: white;}#sk-container-id-1 label.sk-toggleable__label {cursor: pointer;display: block;width: 100%;margin-bottom: 0;padding: 0.3em;box-sizing: border-box;text-align: center;}#sk-container-id-1 label.sk-toggleable__label-arrow:before {content: \"▸\";float: left;margin-right: 0.25em;color: #696969;}#sk-container-id-1 label.sk-toggleable__label-arrow:hover:before {color: black;}#sk-container-id-1 div.sk-estimator:hover label.sk-toggleable__label-arrow:before {color: black;}#sk-container-id-1 div.sk-toggleable__content {max-height: 0;max-width: 0;overflow: hidden;text-align: left;background-color: #f0f8ff;}#sk-container-id-1 div.sk-toggleable__content pre {margin: 0.2em;color: black;border-radius: 0.25em;background-color: #f0f8ff;}#sk-container-id-1 input.sk-toggleable__control:checked~div.sk-toggleable__content {max-height: 200px;max-width: 100%;overflow: auto;}#sk-container-id-1 input.sk-toggleable__control:checked~label.sk-toggleable__label-arrow:before {content: \"▾\";}#sk-container-id-1 div.sk-estimator input.sk-toggleable__control:checked~label.sk-toggleable__label {background-color: #d4ebff;}#sk-container-id-1 div.sk-label input.sk-toggleable__control:checked~label.sk-toggleable__label {background-color: #d4ebff;}#sk-container-id-1 input.sk-hidden--visually {border: 0;clip: rect(1px 1px 1px 1px);clip: rect(1px, 1px, 1px, 1px);height: 1px;margin: -1px;overflow: hidden;padding: 0;position: absolute;width: 1px;}#sk-container-id-1 div.sk-estimator {font-family: monospace;background-color: #f0f8ff;border: 1px dotted black;border-radius: 0.25em;box-sizing: border-box;margin-bottom: 0.5em;}#sk-container-id-1 div.sk-estimator:hover {background-color: #d4ebff;}#sk-container-id-1 div.sk-parallel-item::after {content: \"\";width: 100%;border-bottom: 1px solid gray;flex-grow: 1;}#sk-container-id-1 div.sk-label:hover label.sk-toggleable__label {background-color: #d4ebff;}#sk-container-id-1 div.sk-serial::before {content: \"\";position: absolute;border-left: 1px solid gray;box-sizing: border-box;top: 0;bottom: 0;left: 50%;z-index: 0;}#sk-container-id-1 div.sk-serial {display: flex;flex-direction: column;align-items: center;background-color: white;padding-right: 0.2em;padding-left: 0.2em;position: relative;}#sk-container-id-1 div.sk-item {position: relative;z-index: 1;}#sk-container-id-1 div.sk-parallel {display: flex;align-items: stretch;justify-content: center;background-color: white;position: relative;}#sk-container-id-1 div.sk-item::before, #sk-container-id-1 div.sk-parallel-item::before {content: \"\";position: absolute;border-left: 1px solid gray;box-sizing: border-box;top: 0;bottom: 0;left: 50%;z-index: -1;}#sk-container-id-1 div.sk-parallel-item {display: flex;flex-direction: column;z-index: 1;position: relative;background-color: white;}#sk-container-id-1 div.sk-parallel-item:first-child::after {align-self: flex-end;width: 50%;}#sk-container-id-1 div.sk-parallel-item:last-child::after {align-self: flex-start;width: 50%;}#sk-container-id-1 div.sk-parallel-item:only-child::after {width: 0;}#sk-container-id-1 div.sk-dashed-wrapped {border: 1px dashed gray;margin: 0 0.4em 0.5em 0.4em;box-sizing: border-box;padding-bottom: 0.4em;background-color: white;}#sk-container-id-1 div.sk-label label {font-family: monospace;font-weight: bold;display: inline-block;line-height: 1.2em;}#sk-container-id-1 div.sk-label-container {text-align: center;}#sk-container-id-1 div.sk-container {/* jupyter's `normalize.less` sets `[hidden] { display: none; }` but bootstrap.min.css set `[hidden] { display: none !important; }` so we also need the `!important` here to be able to override the default hidden behavior on the sphinx rendered scikit-learn.org. See: https://github.com/scikit-learn/scikit-learn/issues/21755 */display: inline-block !important;position: relative;}#sk-container-id-1 div.sk-text-repr-fallback {display: none;}</style><div id=\"sk-container-id-1\" class=\"sk-top-container\"><div class=\"sk-text-repr-fallback\"><pre>LogisticRegression(max_iter=1000)</pre><b>In a Jupyter environment, please rerun this cell to show the HTML representation or trust the notebook. <br />On GitHub, the HTML representation is unable to render, please try loading this page with nbviewer.org.</b></div><div class=\"sk-container\" hidden><div class=\"sk-item\"><div class=\"sk-estimator sk-toggleable\"><input class=\"sk-toggleable__control sk-hidden--visually\" id=\"sk-estimator-id-1\" type=\"checkbox\" checked><label for=\"sk-estimator-id-1\" class=\"sk-toggleable__label sk-toggleable__label-arrow\">LogisticRegression</label><div class=\"sk-toggleable__content\"><pre>LogisticRegression(max_iter=1000)</pre></div></div></div></div></div>"
      ],
      "text/plain": [
       "LogisticRegression(max_iter=1000)"
      ]
     },
     "execution_count": 8,
     "metadata": {},
     "output_type": "execute_result"
    }
   ],
   "source": [
    "X = data.drop('Class', axis=1)\n",
    "y = data['Class']\n",
    "X_train, X_test, y_train, y_test = train_test_split(X, y, test_size=0.2, random_state=42)\n",
    "\n",
    "# Train a logistic regression model\n",
    "logreg = LogisticRegression(max_iter=1000)\n",
    "logreg.fit(X_train, y_train)\n"
   ]
  },
  {
   "cell_type": "code",
   "execution_count": null,
   "id": "cbf10b74",
   "metadata": {
    "colab": {
     "base_uri": "https://localhost:8080/"
    },
    "id": "cbf10b74",
    "outputId": "8792e9b0-9809-4c8f-f2f3-60495cebf364"
   },
   "outputs": [
    {
     "name": "stdout",
     "output_type": "stream",
     "text": [
      "Logistic Regression Accuracy: 58.17644168821899 %\n"
     ]
    }
   ],
   "source": [
    "# Evaluate the model's accuracy on the test set\n",
    "y_pred = logreg.predict(X_test)\n",
    "logreg_accuracy = accuracy_score(y_test, y_pred)\n",
    "print(\"Logistic Regression Accuracy:\", logreg_accuracy*100,\"%\")"
   ]
  },
  {
   "cell_type": "code",
   "execution_count": null,
   "id": "BWvIfZmHa-9E",
   "metadata": {
    "colab": {
     "base_uri": "https://localhost:8080/"
    },
    "id": "BWvIfZmHa-9E",
    "outputId": "a50eed77-bc0f-412e-d095-833b1bf9fcb0"
   },
   "outputs": [
    {
     "name": "stdout",
     "output_type": "stream",
     "text": [
      "Precision: 0.5486437266366337\n"
     ]
    }
   ],
   "source": [
    "print(\"Precision:\", precision_score(y_test, y_pred))\n"
   ]
  },
  {
   "cell_type": "markdown",
   "id": "d2c90122",
   "metadata": {
    "id": "d2c90122"
   },
   "source": [
    " Conclusion : The accuracy of Logistic Regression model is 58.17%\n",
    "### Thus Logistic Regression is a better model for our data"
   ]
  },
  {
   "cell_type": "markdown",
   "id": "b2ffb842",
   "metadata": {
    "id": "b2ffb842"
   },
   "source": [
    "# 4.5 Resampling Methods"
   ]
  },
  {
   "cell_type": "markdown",
   "id": "96fb05e8",
   "metadata": {
    "id": "96fb05e8"
   },
   "source": [
    "## Cross-validation "
   ]
  },
  {
   "cell_type": "code",
   "execution_count": null,
   "id": "ade616b0",
   "metadata": {
    "colab": {
     "base_uri": "https://localhost:8080/"
    },
    "id": "ade616b0",
    "outputId": "c0f82437-5163-49a2-dd45-ca64ecd43540"
   },
   "outputs": [
    {
     "name": "stdout",
     "output_type": "stream",
     "text": [
      "Accuracy with resampling methods: 0.5683492663560613\n"
     ]
    }
   ],
   "source": [
    "# Resample the data\n",
    "oversample = RandomOverSampler(sampling_strategy='minority')\n",
    "X_res, y_res = oversample.fit_resample(X, y)\n",
    "# Define k-fold cross validation object\n",
    "cv = KFold(n_splits=5, shuffle=True, random_state=42)\n",
    "# Calculate accuracy using k-fold cross validation with resampling\n",
    "accuracy_scores = cross_val_score(logreg, X_res, y_res, cv=cv, scoring='accuracy')\n",
    "\n",
    "# Print the accuracy\n",
    "print(\"Accuracy with resampling methods:\", accuracy_scores.mean())"
   ]
  },
  {
   "cell_type": "code",
   "execution_count": null,
   "id": "5351a058",
   "metadata": {
    "colab": {
     "base_uri": "https://localhost:8080/"
    },
    "id": "5351a058",
    "outputId": "180906c9-6dab-47e7-8a13-812935ad89da"
   },
   "outputs": [
    {
     "data": {
      "text/plain": [
       "0.41828193220056176"
      ]
     },
     "execution_count": 18,
     "metadata": {},
     "output_type": "execute_result"
    }
   ],
   "source": [
    "# calculate mse\n",
    "mse = mean_squared_error(y_test, y_pred)\n",
    "mse"
   ]
  },
  {
   "cell_type": "markdown",
   "id": "Gigfz7NQAlNr",
   "metadata": {
    "id": "Gigfz7NQAlNr"
   },
   "source": [
    "## Bootstrapping "
   ]
  },
  {
   "cell_type": "code",
   "execution_count": null,
   "id": "-K2j7Di-Aj_i",
   "metadata": {
    "id": "-K2j7Di-Aj_i"
   },
   "outputs": [],
   "source": [
    "from sklearn.utils import resample\n"
   ]
  },
  {
   "cell_type": "code",
   "execution_count": null,
   "id": "T_i9RkQYAj7H",
   "metadata": {
    "id": "T_i9RkQYAj7H"
   },
   "outputs": [],
   "source": [
    "n_times = 10\n",
    "test_score = []\n",
    "train_score = []\n",
    "for i in range(n_times):\n",
    "    X_train, X_test, y_train, y_test = train_test_split(X,y, test_size=0.2, random_state=42+i)\n",
    "    logreg = LogisticRegression(n_jobs=-1).fit(X_train, y_train)\n",
    "    y_pred = logreg.predict(X_test)\n",
    "    Accuracy = accuracy_score(y_test, y_pred)\n",
    "    test_score.append(Accuracy)\n",
    "    train_score.append(accuracy_score(y_train, logreg.predict(X_train)))"
   ]
  },
  {
   "cell_type": "code",
   "execution_count": null,
   "id": "VF07OPa1Aj1L",
   "metadata": {
    "id": "VF07OPa1Aj1L"
   },
   "outputs": [],
   "source": [
    "# Calculate the mean and standard deviation of the scores\n",
    "mean_score = np.mean(scores)\n",
    "std_score = np.std(scores)"
   ]
  },
  {
   "cell_type": "code",
   "execution_count": null,
   "id": "62Q6pLGiAjVZ",
   "metadata": {
    "colab": {
     "base_uri": "https://localhost:8080/"
    },
    "id": "62Q6pLGiAjVZ",
    "outputId": "a7bb1ec0-f2cf-4e74-ee17-fc3db612aac1"
   },
   "outputs": [
    {
     "name": "stdout",
     "output_type": "stream",
     "text": [
      "Mean accuracy score: 0.5728760260187391\n"
     ]
    }
   ],
   "source": [
    "# Print the results\n",
    "print(\"Mean accuracy score:\", mean_score)"
   ]
  },
  {
   "cell_type": "markdown",
   "id": "xIIcw2BemZjc",
   "metadata": {
    "id": "xIIcw2BemZjc"
   },
   "source": [
    "# 4.6 Linear Model Selection and Regularization\n",
    "\n",
    "\n"
   ]
  },
  {
   "cell_type": "markdown",
   "id": "eQ2BdoeYmZdM",
   "metadata": {
    "id": "eQ2BdoeYmZdM"
   },
   "source": [
    "Linear Model Selection : Foward Selection, Backward Selection"
   ]
  },
  {
   "cell_type": "markdown",
   "id": "gJaug87iqIZ4",
   "metadata": {
    "id": "gJaug87iqIZ4"
   },
   "source": [
    "## Forward Selection "
   ]
  },
  {
   "cell_type": "code",
   "execution_count": null,
   "id": "G6kXF2EzoMio",
   "metadata": {
    "colab": {
     "base_uri": "https://localhost:8080/"
    },
    "id": "G6kXF2EzoMio",
    "outputId": "083349fa-89be-4158-f986-eb253abe6890"
   },
   "outputs": [
    {
     "name": "stderr",
     "output_type": "stream",
     "text": [
      "[Parallel(n_jobs=1)]: Using backend SequentialBackend with 1 concurrent workers.\n",
      "[Parallel(n_jobs=1)]: Done   1 out of   1 | elapsed:    0.9s remaining:    0.0s\n",
      "[Parallel(n_jobs=1)]: Done   7 out of   7 | elapsed:   13.6s finished\n",
      "\n",
      "[2023-04-30 23:26:33] Features: 1/7 -- score: 0.5647118805112339[Parallel(n_jobs=1)]: Using backend SequentialBackend with 1 concurrent workers.\n",
      "[Parallel(n_jobs=1)]: Done   1 out of   1 | elapsed:    1.3s remaining:    0.0s\n",
      "[Parallel(n_jobs=1)]: Done   6 out of   6 | elapsed:   21.1s finished\n",
      "\n",
      "[2023-04-30 23:26:54] Features: 2/7 -- score: 0.5740142060926293[Parallel(n_jobs=1)]: Using backend SequentialBackend with 1 concurrent workers.\n",
      "[Parallel(n_jobs=1)]: Done   1 out of   1 | elapsed:    1.4s remaining:    0.0s\n",
      "[Parallel(n_jobs=1)]: Done   5 out of   5 | elapsed:   16.8s finished\n",
      "\n",
      "[2023-04-30 23:27:11] Features: 3/7 -- score: 0.5789735924265073[Parallel(n_jobs=1)]: Using backend SequentialBackend with 1 concurrent workers.\n",
      "[Parallel(n_jobs=1)]: Done   1 out of   1 | elapsed:    8.8s remaining:    0.0s\n",
      "[Parallel(n_jobs=1)]: Done   4 out of   4 | elapsed:   24.2s finished\n",
      "\n",
      "[2023-04-30 23:27:35] Features: 4/7 -- score: 0.5800187715090207[Parallel(n_jobs=1)]: Using backend SequentialBackend with 1 concurrent workers.\n",
      "[Parallel(n_jobs=1)]: Done   1 out of   1 | elapsed:    7.1s remaining:    0.0s\n",
      "[Parallel(n_jobs=1)]: Done   3 out of   3 | elapsed:   20.9s finished\n",
      "\n",
      "[2023-04-30 23:27:56] Features: 5/7 -- score: 0.5807441396971067[Parallel(n_jobs=1)]: Using backend SequentialBackend with 1 concurrent workers.\n",
      "[Parallel(n_jobs=1)]: Done   1 out of   1 | elapsed:    8.6s remaining:    0.0s\n",
      "[Parallel(n_jobs=1)]: Done   2 out of   2 | elapsed:   17.5s finished\n",
      "\n",
      "[2023-04-30 23:28:13] Features: 6/7 -- score: 0.5811357921692679[Parallel(n_jobs=1)]: Using backend SequentialBackend with 1 concurrent workers.\n",
      "[Parallel(n_jobs=1)]: Done   1 out of   1 | elapsed:   17.0s remaining:    0.0s\n",
      "[Parallel(n_jobs=1)]: Done   1 out of   1 | elapsed:   17.0s finished\n",
      "\n",
      "[2023-04-30 23:28:31] Features: 7/7 -- score: 0.5784730188526205"
     ]
    }
   ],
   "source": [
    "sfs_forward = SFS(LogisticRegression(max_iter=10000), \n",
    "                   k_features=(1, len(X_train.columns)), \n",
    "                   forward=True, \n",
    "                   floating=False, \n",
    "                   verbose=2, \n",
    "                   scoring='accuracy', \n",
    "                   cv=5)\n",
    "sfs_forward = sfs_forward.fit(X_train, y_train)"
   ]
  },
  {
   "cell_type": "code",
   "execution_count": null,
   "id": "rne3hyIGqmIN",
   "metadata": {
    "colab": {
     "base_uri": "https://localhost:8080/"
    },
    "id": "rne3hyIGqmIN",
    "outputId": "e0e71490-a4e2-4319-f251-fe5ce68e73f6"
   },
   "outputs": [
    {
     "name": "stdout",
     "output_type": "stream",
     "text": [
      "Forward selection: ('Time', 'Length', 'Airline', 'AirportFrom', 'AirportTo', 'DayOfWeek')\n"
     ]
    }
   ],
   "source": [
    "# Print the selected features\n",
    "print('Forward selection:', sfs_forward.k_feature_names_)\n"
   ]
  },
  {
   "cell_type": "code",
   "execution_count": null,
   "id": "f-GdZOpxxsMx",
   "metadata": {
    "colab": {
     "base_uri": "https://localhost:8080/",
     "height": 75
    },
    "id": "f-GdZOpxxsMx",
    "outputId": "db92dd1a-c62e-4e39-f2e7-f189b4a04ecc"
   },
   "outputs": [
    {
     "data": {
      "text/html": [
       "<style>#sk-container-id-2 {color: black;background-color: white;}#sk-container-id-2 pre{padding: 0;}#sk-container-id-2 div.sk-toggleable {background-color: white;}#sk-container-id-2 label.sk-toggleable__label {cursor: pointer;display: block;width: 100%;margin-bottom: 0;padding: 0.3em;box-sizing: border-box;text-align: center;}#sk-container-id-2 label.sk-toggleable__label-arrow:before {content: \"▸\";float: left;margin-right: 0.25em;color: #696969;}#sk-container-id-2 label.sk-toggleable__label-arrow:hover:before {color: black;}#sk-container-id-2 div.sk-estimator:hover label.sk-toggleable__label-arrow:before {color: black;}#sk-container-id-2 div.sk-toggleable__content {max-height: 0;max-width: 0;overflow: hidden;text-align: left;background-color: #f0f8ff;}#sk-container-id-2 div.sk-toggleable__content pre {margin: 0.2em;color: black;border-radius: 0.25em;background-color: #f0f8ff;}#sk-container-id-2 input.sk-toggleable__control:checked~div.sk-toggleable__content {max-height: 200px;max-width: 100%;overflow: auto;}#sk-container-id-2 input.sk-toggleable__control:checked~label.sk-toggleable__label-arrow:before {content: \"▾\";}#sk-container-id-2 div.sk-estimator input.sk-toggleable__control:checked~label.sk-toggleable__label {background-color: #d4ebff;}#sk-container-id-2 div.sk-label input.sk-toggleable__control:checked~label.sk-toggleable__label {background-color: #d4ebff;}#sk-container-id-2 input.sk-hidden--visually {border: 0;clip: rect(1px 1px 1px 1px);clip: rect(1px, 1px, 1px, 1px);height: 1px;margin: -1px;overflow: hidden;padding: 0;position: absolute;width: 1px;}#sk-container-id-2 div.sk-estimator {font-family: monospace;background-color: #f0f8ff;border: 1px dotted black;border-radius: 0.25em;box-sizing: border-box;margin-bottom: 0.5em;}#sk-container-id-2 div.sk-estimator:hover {background-color: #d4ebff;}#sk-container-id-2 div.sk-parallel-item::after {content: \"\";width: 100%;border-bottom: 1px solid gray;flex-grow: 1;}#sk-container-id-2 div.sk-label:hover label.sk-toggleable__label {background-color: #d4ebff;}#sk-container-id-2 div.sk-serial::before {content: \"\";position: absolute;border-left: 1px solid gray;box-sizing: border-box;top: 0;bottom: 0;left: 50%;z-index: 0;}#sk-container-id-2 div.sk-serial {display: flex;flex-direction: column;align-items: center;background-color: white;padding-right: 0.2em;padding-left: 0.2em;position: relative;}#sk-container-id-2 div.sk-item {position: relative;z-index: 1;}#sk-container-id-2 div.sk-parallel {display: flex;align-items: stretch;justify-content: center;background-color: white;position: relative;}#sk-container-id-2 div.sk-item::before, #sk-container-id-2 div.sk-parallel-item::before {content: \"\";position: absolute;border-left: 1px solid gray;box-sizing: border-box;top: 0;bottom: 0;left: 50%;z-index: -1;}#sk-container-id-2 div.sk-parallel-item {display: flex;flex-direction: column;z-index: 1;position: relative;background-color: white;}#sk-container-id-2 div.sk-parallel-item:first-child::after {align-self: flex-end;width: 50%;}#sk-container-id-2 div.sk-parallel-item:last-child::after {align-self: flex-start;width: 50%;}#sk-container-id-2 div.sk-parallel-item:only-child::after {width: 0;}#sk-container-id-2 div.sk-dashed-wrapped {border: 1px dashed gray;margin: 0 0.4em 0.5em 0.4em;box-sizing: border-box;padding-bottom: 0.4em;background-color: white;}#sk-container-id-2 div.sk-label label {font-family: monospace;font-weight: bold;display: inline-block;line-height: 1.2em;}#sk-container-id-2 div.sk-label-container {text-align: center;}#sk-container-id-2 div.sk-container {/* jupyter's `normalize.less` sets `[hidden] { display: none; }` but bootstrap.min.css set `[hidden] { display: none !important; }` so we also need the `!important` here to be able to override the default hidden behavior on the sphinx rendered scikit-learn.org. See: https://github.com/scikit-learn/scikit-learn/issues/21755 */display: inline-block !important;position: relative;}#sk-container-id-2 div.sk-text-repr-fallback {display: none;}</style><div id=\"sk-container-id-2\" class=\"sk-top-container\"><div class=\"sk-text-repr-fallback\"><pre>LogisticRegression(solver=&#x27;liblinear&#x27;)</pre><b>In a Jupyter environment, please rerun this cell to show the HTML representation or trust the notebook. <br />On GitHub, the HTML representation is unable to render, please try loading this page with nbviewer.org.</b></div><div class=\"sk-container\" hidden><div class=\"sk-item\"><div class=\"sk-estimator sk-toggleable\"><input class=\"sk-toggleable__control sk-hidden--visually\" id=\"sk-estimator-id-2\" type=\"checkbox\" checked><label for=\"sk-estimator-id-2\" class=\"sk-toggleable__label sk-toggleable__label-arrow\">LogisticRegression</label><div class=\"sk-toggleable__content\"><pre>LogisticRegression(solver=&#x27;liblinear&#x27;)</pre></div></div></div></div></div>"
      ],
      "text/plain": [
       "LogisticRegression(solver='liblinear')"
      ]
     },
     "execution_count": 24,
     "metadata": {},
     "output_type": "execute_result"
    }
   ],
   "source": [
    "# Select the features from forward selection and fit the logistic regression model\n",
    "X_train_forward = X_train.iloc[:, list(sfs_forward.k_feature_idx_)]\n",
    "X_test_forward = X_test.iloc[:, list(sfs_forward.k_feature_idx_)]\n",
    "model_forward = LogisticRegression(solver='liblinear')\n",
    "model_forward.fit(X_train_forward, y_train)\n"
   ]
  },
  {
   "cell_type": "code",
   "execution_count": null,
   "id": "L05xhiH_xwzi",
   "metadata": {
    "colab": {
     "base_uri": "https://localhost:8080/"
    },
    "id": "L05xhiH_xwzi",
    "outputId": "3637a095-ad4d-4a3a-bfdd-0037e0863d2f"
   },
   "outputs": [
    {
     "name": "stdout",
     "output_type": "stream",
     "text": [
      "Accuracy after forward selection:  57.79452524634537 %\n"
     ]
    }
   ],
   "source": [
    "y_pred_forward = model_forward.predict(X_test_forward)\n",
    "accuracy_forward = accuracy_score(y_test, y_pred_forward)\n",
    "#Print the accuracy of the forward selection logistic regression model\n",
    "print(\"Accuracy after forward selection: \", accuracy_forward*100, '%')"
   ]
  },
  {
   "cell_type": "markdown",
   "id": "_85HSAP-x91J",
   "metadata": {
    "id": "_85HSAP-x91J"
   },
   "source": [
    "## Backward Selection"
   ]
  },
  {
   "cell_type": "code",
   "execution_count": null,
   "id": "3s6xKizhs31Y",
   "metadata": {
    "colab": {
     "base_uri": "https://localhost:8080/"
    },
    "id": "3s6xKizhs31Y",
    "outputId": "2cdb9270-4598-49a7-df8c-ac45280afbb6",
    "scrolled": true
   },
   "outputs": [
    {
     "name": "stderr",
     "output_type": "stream",
     "text": [
      "[Parallel(n_jobs=1)]: Using backend SequentialBackend with 1 concurrent workers.\n",
      "[Parallel(n_jobs=1)]: Done   1 out of   1 | elapsed:   12.8s remaining:    0.0s\n",
      "[Parallel(n_jobs=1)]: Done   7 out of   7 | elapsed:  1.3min finished\n",
      "\n",
      "[2023-04-30 23:33:07] Features: 6/1 -- score: 0.5835691359312175[Parallel(n_jobs=1)]: Using backend SequentialBackend with 1 concurrent workers.\n",
      "[Parallel(n_jobs=1)]: Done   1 out of   1 | elapsed:    9.4s remaining:    0.0s\n",
      "[Parallel(n_jobs=1)]: Done   6 out of   6 | elapsed:   40.7s finished\n",
      "\n",
      "[2023-04-30 23:33:47] Features: 5/1 -- score: 0.5819237320540898[Parallel(n_jobs=1)]: Using backend SequentialBackend with 1 concurrent workers.\n",
      "[Parallel(n_jobs=1)]: Done   1 out of   1 | elapsed:    7.1s remaining:    0.0s\n",
      "[Parallel(n_jobs=1)]: Done   5 out of   5 | elapsed:   29.9s finished\n",
      "\n",
      "[2023-04-30 23:34:17] Features: 4/1 -- score: 0.5788808936165282[Parallel(n_jobs=1)]: Using backend SequentialBackend with 1 concurrent workers.\n",
      "[Parallel(n_jobs=1)]: Done   1 out of   1 | elapsed:    3.5s remaining:    0.0s\n",
      "[Parallel(n_jobs=1)]: Done   4 out of   4 | elapsed:   15.9s finished\n",
      "\n",
      "[2023-04-30 23:34:33] Features: 3/1 -- score: 0.5789735924265073[Parallel(n_jobs=1)]: Using backend SequentialBackend with 1 concurrent workers.\n",
      "[Parallel(n_jobs=1)]: Done   1 out of   1 | elapsed:    2.7s remaining:    0.0s\n",
      "[Parallel(n_jobs=1)]: Done   3 out of   3 | elapsed:    9.5s finished\n",
      "\n",
      "[2023-04-30 23:34:43] Features: 2/1 -- score: 0.5740142060926293[Parallel(n_jobs=1)]: Using backend SequentialBackend with 1 concurrent workers.\n",
      "[Parallel(n_jobs=1)]: Done   1 out of   1 | elapsed:    2.4s remaining:    0.0s\n",
      "[Parallel(n_jobs=1)]: Done   2 out of   2 | elapsed:    3.6s finished\n",
      "\n",
      "[2023-04-30 23:34:46] Features: 1/1 -- score: 0.5647118805112339"
     ]
    }
   ],
   "source": [
    "sfs_backward = SFS(LogisticRegression(max_iter=10000), \n",
    "                   k_features=(1, len(X_train.columns)), \n",
    "                   forward=False, \n",
    "                   floating=False, \n",
    "                   verbose=2, \n",
    "                   scoring='accuracy', \n",
    "                   cv=5)\n",
    "\n",
    "sfs_backward = sfs_backward.fit(X_train, y_train)"
   ]
  },
  {
   "cell_type": "code",
   "execution_count": null,
   "id": "PbJ5SbeZtnw5",
   "metadata": {
    "colab": {
     "base_uri": "https://localhost:8080/"
    },
    "id": "PbJ5SbeZtnw5",
    "outputId": "f6a345fd-8602-42bc-a0f7-3369c6e3422d",
    "scrolled": true
   },
   "outputs": [
    {
     "name": "stdout",
     "output_type": "stream",
     "text": [
      "Backward selection: ('Flight', 'Time', 'Length', 'Airline', 'AirportFrom', 'AirportTo')\n"
     ]
    }
   ],
   "source": [
    "# Print the selected features\n",
    "print('Backward selection:', sfs_backward.k_feature_names_)"
   ]
  },
  {
   "cell_type": "code",
   "execution_count": null,
   "id": "x46PbgeHtnin",
   "metadata": {
    "colab": {
     "base_uri": "https://localhost:8080/",
     "height": 75
    },
    "id": "x46PbgeHtnin",
    "outputId": "fe23af97-284f-4636-85b5-4f0b894d1a2f"
   },
   "outputs": [
    {
     "data": {
      "text/html": [
       "<style>#sk-container-id-3 {color: black;background-color: white;}#sk-container-id-3 pre{padding: 0;}#sk-container-id-3 div.sk-toggleable {background-color: white;}#sk-container-id-3 label.sk-toggleable__label {cursor: pointer;display: block;width: 100%;margin-bottom: 0;padding: 0.3em;box-sizing: border-box;text-align: center;}#sk-container-id-3 label.sk-toggleable__label-arrow:before {content: \"▸\";float: left;margin-right: 0.25em;color: #696969;}#sk-container-id-3 label.sk-toggleable__label-arrow:hover:before {color: black;}#sk-container-id-3 div.sk-estimator:hover label.sk-toggleable__label-arrow:before {color: black;}#sk-container-id-3 div.sk-toggleable__content {max-height: 0;max-width: 0;overflow: hidden;text-align: left;background-color: #f0f8ff;}#sk-container-id-3 div.sk-toggleable__content pre {margin: 0.2em;color: black;border-radius: 0.25em;background-color: #f0f8ff;}#sk-container-id-3 input.sk-toggleable__control:checked~div.sk-toggleable__content {max-height: 200px;max-width: 100%;overflow: auto;}#sk-container-id-3 input.sk-toggleable__control:checked~label.sk-toggleable__label-arrow:before {content: \"▾\";}#sk-container-id-3 div.sk-estimator input.sk-toggleable__control:checked~label.sk-toggleable__label {background-color: #d4ebff;}#sk-container-id-3 div.sk-label input.sk-toggleable__control:checked~label.sk-toggleable__label {background-color: #d4ebff;}#sk-container-id-3 input.sk-hidden--visually {border: 0;clip: rect(1px 1px 1px 1px);clip: rect(1px, 1px, 1px, 1px);height: 1px;margin: -1px;overflow: hidden;padding: 0;position: absolute;width: 1px;}#sk-container-id-3 div.sk-estimator {font-family: monospace;background-color: #f0f8ff;border: 1px dotted black;border-radius: 0.25em;box-sizing: border-box;margin-bottom: 0.5em;}#sk-container-id-3 div.sk-estimator:hover {background-color: #d4ebff;}#sk-container-id-3 div.sk-parallel-item::after {content: \"\";width: 100%;border-bottom: 1px solid gray;flex-grow: 1;}#sk-container-id-3 div.sk-label:hover label.sk-toggleable__label {background-color: #d4ebff;}#sk-container-id-3 div.sk-serial::before {content: \"\";position: absolute;border-left: 1px solid gray;box-sizing: border-box;top: 0;bottom: 0;left: 50%;z-index: 0;}#sk-container-id-3 div.sk-serial {display: flex;flex-direction: column;align-items: center;background-color: white;padding-right: 0.2em;padding-left: 0.2em;position: relative;}#sk-container-id-3 div.sk-item {position: relative;z-index: 1;}#sk-container-id-3 div.sk-parallel {display: flex;align-items: stretch;justify-content: center;background-color: white;position: relative;}#sk-container-id-3 div.sk-item::before, #sk-container-id-3 div.sk-parallel-item::before {content: \"\";position: absolute;border-left: 1px solid gray;box-sizing: border-box;top: 0;bottom: 0;left: 50%;z-index: -1;}#sk-container-id-3 div.sk-parallel-item {display: flex;flex-direction: column;z-index: 1;position: relative;background-color: white;}#sk-container-id-3 div.sk-parallel-item:first-child::after {align-self: flex-end;width: 50%;}#sk-container-id-3 div.sk-parallel-item:last-child::after {align-self: flex-start;width: 50%;}#sk-container-id-3 div.sk-parallel-item:only-child::after {width: 0;}#sk-container-id-3 div.sk-dashed-wrapped {border: 1px dashed gray;margin: 0 0.4em 0.5em 0.4em;box-sizing: border-box;padding-bottom: 0.4em;background-color: white;}#sk-container-id-3 div.sk-label label {font-family: monospace;font-weight: bold;display: inline-block;line-height: 1.2em;}#sk-container-id-3 div.sk-label-container {text-align: center;}#sk-container-id-3 div.sk-container {/* jupyter's `normalize.less` sets `[hidden] { display: none; }` but bootstrap.min.css set `[hidden] { display: none !important; }` so we also need the `!important` here to be able to override the default hidden behavior on the sphinx rendered scikit-learn.org. See: https://github.com/scikit-learn/scikit-learn/issues/21755 */display: inline-block !important;position: relative;}#sk-container-id-3 div.sk-text-repr-fallback {display: none;}</style><div id=\"sk-container-id-3\" class=\"sk-top-container\"><div class=\"sk-text-repr-fallback\"><pre>LogisticRegression(solver=&#x27;liblinear&#x27;)</pre><b>In a Jupyter environment, please rerun this cell to show the HTML representation or trust the notebook. <br />On GitHub, the HTML representation is unable to render, please try loading this page with nbviewer.org.</b></div><div class=\"sk-container\" hidden><div class=\"sk-item\"><div class=\"sk-estimator sk-toggleable\"><input class=\"sk-toggleable__control sk-hidden--visually\" id=\"sk-estimator-id-3\" type=\"checkbox\" checked><label for=\"sk-estimator-id-3\" class=\"sk-toggleable__label sk-toggleable__label-arrow\">LogisticRegression</label><div class=\"sk-toggleable__content\"><pre>LogisticRegression(solver=&#x27;liblinear&#x27;)</pre></div></div></div></div></div>"
      ],
      "text/plain": [
       "LogisticRegression(solver='liblinear')"
      ]
     },
     "execution_count": 30,
     "metadata": {},
     "output_type": "execute_result"
    }
   ],
   "source": [
    "# Select the features from backward selection and fit the logistic regression model\n",
    "X_train_backward = X_train.iloc[:, list(sfs_backward.k_feature_idx_)]\n",
    "X_test_backward = X_test.iloc[:, list(sfs_backward.k_feature_idx_)]\n",
    "model_backward = LogisticRegression(solver='liblinear')\n",
    "model_backward.fit(X_train_backward, y_train)"
   ]
  },
  {
   "cell_type": "code",
   "execution_count": null,
   "id": "oljJR3n7yave",
   "metadata": {
    "colab": {
     "base_uri": "https://localhost:8080/"
    },
    "id": "oljJR3n7yave",
    "outputId": "02c943dc-f1f6-42e4-c0b6-5fa3b73b6a56",
    "scrolled": true
   },
   "outputs": [
    {
     "name": "stdout",
     "output_type": "stream",
     "text": [
      "Accuracy after backward selection:  58.07910861444052 %\n"
     ]
    }
   ],
   "source": [
    "# Predict the test set using the backward selection logistic regression model\n",
    "y_pred_backward = model_backward.predict(X_test_backward)\n",
    "accuracy_backward = accuracy_score(y_test, y_pred_backward)\n",
    "# Print the accuracy of the backward selection logistic regression model\n",
    "print(\"Accuracy after backward selection: \", accuracy_backward*100, '%')"
   ]
  },
  {
   "cell_type": "markdown",
   "id": "6b46ead3",
   "metadata": {
    "id": "6b46ead3"
   },
   "source": [
    "### Conclusion : We can observe that Accuracy after forward selection:  57.79% and Accuracy after backward selection:  58.079 %"
   ]
  },
  {
   "cell_type": "markdown",
   "id": "ae6d3153",
   "metadata": {
    "id": "ae6d3153"
   },
   "source": [
    "# Regularise the Logistic Regression model with Ridge and Lasso Regression"
   ]
  },
  {
   "cell_type": "code",
   "execution_count": null,
   "id": "7423b0f8",
   "metadata": {
    "id": "7423b0f8",
    "outputId": "e3f98834-e962-4b80-dc8e-79518ebd6eb3"
   },
   "outputs": [
    {
     "data": {
      "text/html": [
       "<style>#sk-container-id-2 {color: black;background-color: white;}#sk-container-id-2 pre{padding: 0;}#sk-container-id-2 div.sk-toggleable {background-color: white;}#sk-container-id-2 label.sk-toggleable__label {cursor: pointer;display: block;width: 100%;margin-bottom: 0;padding: 0.3em;box-sizing: border-box;text-align: center;}#sk-container-id-2 label.sk-toggleable__label-arrow:before {content: \"▸\";float: left;margin-right: 0.25em;color: #696969;}#sk-container-id-2 label.sk-toggleable__label-arrow:hover:before {color: black;}#sk-container-id-2 div.sk-estimator:hover label.sk-toggleable__label-arrow:before {color: black;}#sk-container-id-2 div.sk-toggleable__content {max-height: 0;max-width: 0;overflow: hidden;text-align: left;background-color: #f0f8ff;}#sk-container-id-2 div.sk-toggleable__content pre {margin: 0.2em;color: black;border-radius: 0.25em;background-color: #f0f8ff;}#sk-container-id-2 input.sk-toggleable__control:checked~div.sk-toggleable__content {max-height: 200px;max-width: 100%;overflow: auto;}#sk-container-id-2 input.sk-toggleable__control:checked~label.sk-toggleable__label-arrow:before {content: \"▾\";}#sk-container-id-2 div.sk-estimator input.sk-toggleable__control:checked~label.sk-toggleable__label {background-color: #d4ebff;}#sk-container-id-2 div.sk-label input.sk-toggleable__control:checked~label.sk-toggleable__label {background-color: #d4ebff;}#sk-container-id-2 input.sk-hidden--visually {border: 0;clip: rect(1px 1px 1px 1px);clip: rect(1px, 1px, 1px, 1px);height: 1px;margin: -1px;overflow: hidden;padding: 0;position: absolute;width: 1px;}#sk-container-id-2 div.sk-estimator {font-family: monospace;background-color: #f0f8ff;border: 1px dotted black;border-radius: 0.25em;box-sizing: border-box;margin-bottom: 0.5em;}#sk-container-id-2 div.sk-estimator:hover {background-color: #d4ebff;}#sk-container-id-2 div.sk-parallel-item::after {content: \"\";width: 100%;border-bottom: 1px solid gray;flex-grow: 1;}#sk-container-id-2 div.sk-label:hover label.sk-toggleable__label {background-color: #d4ebff;}#sk-container-id-2 div.sk-serial::before {content: \"\";position: absolute;border-left: 1px solid gray;box-sizing: border-box;top: 0;bottom: 0;left: 50%;z-index: 0;}#sk-container-id-2 div.sk-serial {display: flex;flex-direction: column;align-items: center;background-color: white;padding-right: 0.2em;padding-left: 0.2em;position: relative;}#sk-container-id-2 div.sk-item {position: relative;z-index: 1;}#sk-container-id-2 div.sk-parallel {display: flex;align-items: stretch;justify-content: center;background-color: white;position: relative;}#sk-container-id-2 div.sk-item::before, #sk-container-id-2 div.sk-parallel-item::before {content: \"\";position: absolute;border-left: 1px solid gray;box-sizing: border-box;top: 0;bottom: 0;left: 50%;z-index: -1;}#sk-container-id-2 div.sk-parallel-item {display: flex;flex-direction: column;z-index: 1;position: relative;background-color: white;}#sk-container-id-2 div.sk-parallel-item:first-child::after {align-self: flex-end;width: 50%;}#sk-container-id-2 div.sk-parallel-item:last-child::after {align-self: flex-start;width: 50%;}#sk-container-id-2 div.sk-parallel-item:only-child::after {width: 0;}#sk-container-id-2 div.sk-dashed-wrapped {border: 1px dashed gray;margin: 0 0.4em 0.5em 0.4em;box-sizing: border-box;padding-bottom: 0.4em;background-color: white;}#sk-container-id-2 div.sk-label label {font-family: monospace;font-weight: bold;display: inline-block;line-height: 1.2em;}#sk-container-id-2 div.sk-label-container {text-align: center;}#sk-container-id-2 div.sk-container {/* jupyter's `normalize.less` sets `[hidden] { display: none; }` but bootstrap.min.css set `[hidden] { display: none !important; }` so we also need the `!important` here to be able to override the default hidden behavior on the sphinx rendered scikit-learn.org. See: https://github.com/scikit-learn/scikit-learn/issues/21755 */display: inline-block !important;position: relative;}#sk-container-id-2 div.sk-text-repr-fallback {display: none;}</style><div id=\"sk-container-id-2\" class=\"sk-top-container\"><div class=\"sk-text-repr-fallback\"><pre>LogisticRegression(max_iter=10000)</pre><b>In a Jupyter environment, please rerun this cell to show the HTML representation or trust the notebook. <br />On GitHub, the HTML representation is unable to render, please try loading this page with nbviewer.org.</b></div><div class=\"sk-container\" hidden><div class=\"sk-item\"><div class=\"sk-estimator sk-toggleable\"><input class=\"sk-toggleable__control sk-hidden--visually\" id=\"sk-estimator-id-2\" type=\"checkbox\" checked><label for=\"sk-estimator-id-2\" class=\"sk-toggleable__label sk-toggleable__label-arrow\">LogisticRegression</label><div class=\"sk-toggleable__content\"><pre>LogisticRegression(max_iter=10000)</pre></div></div></div></div></div>"
      ],
      "text/plain": [
       "LogisticRegression(max_iter=10000)"
      ]
     },
     "execution_count": 12,
     "metadata": {},
     "output_type": "execute_result"
    }
   ],
   "source": [
    "logreg = LogisticRegression(max_iter=10000)\n",
    "logreg.fit(X_train, y_train)\n"
   ]
  },
  {
   "cell_type": "code",
   "execution_count": null,
   "id": "37a549ed",
   "metadata": {
    "id": "37a549ed"
   },
   "outputs": [],
   "source": [
    "y_pred = logreg.predict(X_test)\n"
   ]
  },
  {
   "cell_type": "code",
   "execution_count": null,
   "id": "11cae9f1",
   "metadata": {
    "id": "11cae9f1"
   },
   "outputs": [],
   "source": [
    "#Ridge regression"
   ]
  },
  {
   "cell_type": "code",
   "execution_count": null,
   "id": "3146285e",
   "metadata": {
    "id": "3146285e",
    "outputId": "6e837732-3242-444c-d34a-349a0cccf9c9"
   },
   "outputs": [
    {
     "data": {
      "text/html": [
       "<style>#sk-container-id-3 {color: black;background-color: white;}#sk-container-id-3 pre{padding: 0;}#sk-container-id-3 div.sk-toggleable {background-color: white;}#sk-container-id-3 label.sk-toggleable__label {cursor: pointer;display: block;width: 100%;margin-bottom: 0;padding: 0.3em;box-sizing: border-box;text-align: center;}#sk-container-id-3 label.sk-toggleable__label-arrow:before {content: \"▸\";float: left;margin-right: 0.25em;color: #696969;}#sk-container-id-3 label.sk-toggleable__label-arrow:hover:before {color: black;}#sk-container-id-3 div.sk-estimator:hover label.sk-toggleable__label-arrow:before {color: black;}#sk-container-id-3 div.sk-toggleable__content {max-height: 0;max-width: 0;overflow: hidden;text-align: left;background-color: #f0f8ff;}#sk-container-id-3 div.sk-toggleable__content pre {margin: 0.2em;color: black;border-radius: 0.25em;background-color: #f0f8ff;}#sk-container-id-3 input.sk-toggleable__control:checked~div.sk-toggleable__content {max-height: 200px;max-width: 100%;overflow: auto;}#sk-container-id-3 input.sk-toggleable__control:checked~label.sk-toggleable__label-arrow:before {content: \"▾\";}#sk-container-id-3 div.sk-estimator input.sk-toggleable__control:checked~label.sk-toggleable__label {background-color: #d4ebff;}#sk-container-id-3 div.sk-label input.sk-toggleable__control:checked~label.sk-toggleable__label {background-color: #d4ebff;}#sk-container-id-3 input.sk-hidden--visually {border: 0;clip: rect(1px 1px 1px 1px);clip: rect(1px, 1px, 1px, 1px);height: 1px;margin: -1px;overflow: hidden;padding: 0;position: absolute;width: 1px;}#sk-container-id-3 div.sk-estimator {font-family: monospace;background-color: #f0f8ff;border: 1px dotted black;border-radius: 0.25em;box-sizing: border-box;margin-bottom: 0.5em;}#sk-container-id-3 div.sk-estimator:hover {background-color: #d4ebff;}#sk-container-id-3 div.sk-parallel-item::after {content: \"\";width: 100%;border-bottom: 1px solid gray;flex-grow: 1;}#sk-container-id-3 div.sk-label:hover label.sk-toggleable__label {background-color: #d4ebff;}#sk-container-id-3 div.sk-serial::before {content: \"\";position: absolute;border-left: 1px solid gray;box-sizing: border-box;top: 0;bottom: 0;left: 50%;z-index: 0;}#sk-container-id-3 div.sk-serial {display: flex;flex-direction: column;align-items: center;background-color: white;padding-right: 0.2em;padding-left: 0.2em;position: relative;}#sk-container-id-3 div.sk-item {position: relative;z-index: 1;}#sk-container-id-3 div.sk-parallel {display: flex;align-items: stretch;justify-content: center;background-color: white;position: relative;}#sk-container-id-3 div.sk-item::before, #sk-container-id-3 div.sk-parallel-item::before {content: \"\";position: absolute;border-left: 1px solid gray;box-sizing: border-box;top: 0;bottom: 0;left: 50%;z-index: -1;}#sk-container-id-3 div.sk-parallel-item {display: flex;flex-direction: column;z-index: 1;position: relative;background-color: white;}#sk-container-id-3 div.sk-parallel-item:first-child::after {align-self: flex-end;width: 50%;}#sk-container-id-3 div.sk-parallel-item:last-child::after {align-self: flex-start;width: 50%;}#sk-container-id-3 div.sk-parallel-item:only-child::after {width: 0;}#sk-container-id-3 div.sk-dashed-wrapped {border: 1px dashed gray;margin: 0 0.4em 0.5em 0.4em;box-sizing: border-box;padding-bottom: 0.4em;background-color: white;}#sk-container-id-3 div.sk-label label {font-family: monospace;font-weight: bold;display: inline-block;line-height: 1.2em;}#sk-container-id-3 div.sk-label-container {text-align: center;}#sk-container-id-3 div.sk-container {/* jupyter's `normalize.less` sets `[hidden] { display: none; }` but bootstrap.min.css set `[hidden] { display: none !important; }` so we also need the `!important` here to be able to override the default hidden behavior on the sphinx rendered scikit-learn.org. See: https://github.com/scikit-learn/scikit-learn/issues/21755 */display: inline-block !important;position: relative;}#sk-container-id-3 div.sk-text-repr-fallback {display: none;}</style><div id=\"sk-container-id-3\" class=\"sk-top-container\"><div class=\"sk-text-repr-fallback\"><pre>Ridge(alpha=0.5)</pre><b>In a Jupyter environment, please rerun this cell to show the HTML representation or trust the notebook. <br />On GitHub, the HTML representation is unable to render, please try loading this page with nbviewer.org.</b></div><div class=\"sk-container\" hidden><div class=\"sk-item\"><div class=\"sk-estimator sk-toggleable\"><input class=\"sk-toggleable__control sk-hidden--visually\" id=\"sk-estimator-id-3\" type=\"checkbox\" checked><label for=\"sk-estimator-id-3\" class=\"sk-toggleable__label sk-toggleable__label-arrow\">Ridge</label><div class=\"sk-toggleable__content\"><pre>Ridge(alpha=0.5)</pre></div></div></div></div></div>"
      ],
      "text/plain": [
       "Ridge(alpha=0.5)"
      ]
     },
     "execution_count": 14,
     "metadata": {},
     "output_type": "execute_result"
    }
   ],
   "source": [
    "# Regularize the logistic regression model using Ridge regression\n",
    "ridge = Ridge(alpha=0.5)\n",
    "ridge.fit(X_train, y_train)"
   ]
  },
  {
   "cell_type": "code",
   "execution_count": null,
   "id": "3106bfba",
   "metadata": {
    "id": "3106bfba",
    "outputId": "fc10e70d-34ce-4dcb-c9a1-9b71e262dce0",
    "scrolled": true
   },
   "outputs": [
    {
     "name": "stdout",
     "output_type": "stream",
     "text": [
      "Accuracy score of Ridge regression model:  58.17736866987402 %\n"
     ]
    }
   ],
   "source": [
    "y_pred = ridge.predict(X_test)\n",
    "ridge_accuracy= accuracy_score(y_test, y_pred.round())\n",
    "print(\"Accuracy score of Ridge regression model: \", ridge_accuracy*100, '%')"
   ]
  },
  {
   "cell_type": "code",
   "execution_count": null,
   "id": "b3857258",
   "metadata": {
    "id": "b3857258"
   },
   "outputs": [],
   "source": [
    "#Lasso regression"
   ]
  },
  {
   "cell_type": "code",
   "execution_count": null,
   "id": "758705b8",
   "metadata": {
    "id": "758705b8"
   },
   "outputs": [],
   "source": [
    "# Regularize the logistic regression model using Lasso regression\n",
    "lasso = Lasso(alpha=0.5)\n",
    "lasso.fit(X_train, y_train)\n"
   ]
  },
  {
   "cell_type": "code",
   "execution_count": null,
   "id": "4d2ef690",
   "metadata": {
    "id": "4d2ef690",
    "outputId": "651553bd-096b-4fac-dc3e-cbea899e7150"
   },
   "outputs": [
    {
     "name": "stdout",
     "output_type": "stream",
     "text": [
      "Accuracy score of Lasso regression model:  56.80728978373518 %\n"
     ]
    }
   ],
   "source": [
    "# Evaluate the Lasso regression model\n",
    "y_pred = lasso.predict(X_test)\n",
    "lasso_accuracy= accuracy_score(y_test, y_pred.round())\n",
    "print(\"Accuracy score of Lasso regression model: \", lasso_accuracy*100, \"%\")"
   ]
  },
  {
   "cell_type": "markdown",
   "id": "15833774",
   "metadata": {
    "id": "15833774"
   },
   "source": [
    "### Conclusion: We can observe that Accuracy after Regularise model :\n",
    "* With Ridge regression:  58.17 %\n",
    "\n",
    "* With Lasso Regression: 56.80%"
   ]
  },
  {
   "cell_type": "markdown",
   "id": "y5ATxqufpMpm",
   "metadata": {
    "id": "y5ATxqufpMpm"
   },
   "source": [
    "\n",
    "## 4.7 Moving Beyond Linearity "
   ]
  },
  {
   "cell_type": "code",
   "execution_count": null,
   "id": "NjvPmfCgrhKr",
   "metadata": {
    "id": "NjvPmfCgrhKr"
   },
   "outputs": [],
   "source": [
    "# Scale the data using StandardScaler\n",
    "scaler = StandardScaler()\n",
    "X_train_scaled = scaler.fit_transform(X_train)\n",
    "X_test_scaled = scaler.transform(X_test)"
   ]
  },
  {
   "cell_type": "code",
   "execution_count": null,
   "id": "fac84583",
   "metadata": {
    "id": "fac84583"
   },
   "outputs": [],
   "source": [
    "model = LogisticRegression(penalty='l1', solver='liblinear')"
   ]
  },
  {
   "cell_type": "code",
   "execution_count": null,
   "id": "13f33cb5",
   "metadata": {
    "colab": {
     "base_uri": "https://localhost:8080/",
     "height": 75
    },
    "id": "13f33cb5",
    "outputId": "7bff3339-9f20-436a-fb31-258557466f31"
   },
   "outputs": [
    {
     "data": {
      "text/html": [
       "<style>#sk-container-id-8 {color: black;background-color: white;}#sk-container-id-8 pre{padding: 0;}#sk-container-id-8 div.sk-toggleable {background-color: white;}#sk-container-id-8 label.sk-toggleable__label {cursor: pointer;display: block;width: 100%;margin-bottom: 0;padding: 0.3em;box-sizing: border-box;text-align: center;}#sk-container-id-8 label.sk-toggleable__label-arrow:before {content: \"▸\";float: left;margin-right: 0.25em;color: #696969;}#sk-container-id-8 label.sk-toggleable__label-arrow:hover:before {color: black;}#sk-container-id-8 div.sk-estimator:hover label.sk-toggleable__label-arrow:before {color: black;}#sk-container-id-8 div.sk-toggleable__content {max-height: 0;max-width: 0;overflow: hidden;text-align: left;background-color: #f0f8ff;}#sk-container-id-8 div.sk-toggleable__content pre {margin: 0.2em;color: black;border-radius: 0.25em;background-color: #f0f8ff;}#sk-container-id-8 input.sk-toggleable__control:checked~div.sk-toggleable__content {max-height: 200px;max-width: 100%;overflow: auto;}#sk-container-id-8 input.sk-toggleable__control:checked~label.sk-toggleable__label-arrow:before {content: \"▾\";}#sk-container-id-8 div.sk-estimator input.sk-toggleable__control:checked~label.sk-toggleable__label {background-color: #d4ebff;}#sk-container-id-8 div.sk-label input.sk-toggleable__control:checked~label.sk-toggleable__label {background-color: #d4ebff;}#sk-container-id-8 input.sk-hidden--visually {border: 0;clip: rect(1px 1px 1px 1px);clip: rect(1px, 1px, 1px, 1px);height: 1px;margin: -1px;overflow: hidden;padding: 0;position: absolute;width: 1px;}#sk-container-id-8 div.sk-estimator {font-family: monospace;background-color: #f0f8ff;border: 1px dotted black;border-radius: 0.25em;box-sizing: border-box;margin-bottom: 0.5em;}#sk-container-id-8 div.sk-estimator:hover {background-color: #d4ebff;}#sk-container-id-8 div.sk-parallel-item::after {content: \"\";width: 100%;border-bottom: 1px solid gray;flex-grow: 1;}#sk-container-id-8 div.sk-label:hover label.sk-toggleable__label {background-color: #d4ebff;}#sk-container-id-8 div.sk-serial::before {content: \"\";position: absolute;border-left: 1px solid gray;box-sizing: border-box;top: 0;bottom: 0;left: 50%;z-index: 0;}#sk-container-id-8 div.sk-serial {display: flex;flex-direction: column;align-items: center;background-color: white;padding-right: 0.2em;padding-left: 0.2em;position: relative;}#sk-container-id-8 div.sk-item {position: relative;z-index: 1;}#sk-container-id-8 div.sk-parallel {display: flex;align-items: stretch;justify-content: center;background-color: white;position: relative;}#sk-container-id-8 div.sk-item::before, #sk-container-id-8 div.sk-parallel-item::before {content: \"\";position: absolute;border-left: 1px solid gray;box-sizing: border-box;top: 0;bottom: 0;left: 50%;z-index: -1;}#sk-container-id-8 div.sk-parallel-item {display: flex;flex-direction: column;z-index: 1;position: relative;background-color: white;}#sk-container-id-8 div.sk-parallel-item:first-child::after {align-self: flex-end;width: 50%;}#sk-container-id-8 div.sk-parallel-item:last-child::after {align-self: flex-start;width: 50%;}#sk-container-id-8 div.sk-parallel-item:only-child::after {width: 0;}#sk-container-id-8 div.sk-dashed-wrapped {border: 1px dashed gray;margin: 0 0.4em 0.5em 0.4em;box-sizing: border-box;padding-bottom: 0.4em;background-color: white;}#sk-container-id-8 div.sk-label label {font-family: monospace;font-weight: bold;display: inline-block;line-height: 1.2em;}#sk-container-id-8 div.sk-label-container {text-align: center;}#sk-container-id-8 div.sk-container {/* jupyter's `normalize.less` sets `[hidden] { display: none; }` but bootstrap.min.css set `[hidden] { display: none !important; }` so we also need the `!important` here to be able to override the default hidden behavior on the sphinx rendered scikit-learn.org. See: https://github.com/scikit-learn/scikit-learn/issues/21755 */display: inline-block !important;position: relative;}#sk-container-id-8 div.sk-text-repr-fallback {display: none;}</style><div id=\"sk-container-id-8\" class=\"sk-top-container\"><div class=\"sk-text-repr-fallback\"><pre>LogisticRegression(penalty=&#x27;l1&#x27;, solver=&#x27;liblinear&#x27;)</pre><b>In a Jupyter environment, please rerun this cell to show the HTML representation or trust the notebook. <br />On GitHub, the HTML representation is unable to render, please try loading this page with nbviewer.org.</b></div><div class=\"sk-container\" hidden><div class=\"sk-item\"><div class=\"sk-estimator sk-toggleable\"><input class=\"sk-toggleable__control sk-hidden--visually\" id=\"sk-estimator-id-14\" type=\"checkbox\" checked><label for=\"sk-estimator-id-14\" class=\"sk-toggleable__label sk-toggleable__label-arrow\">LogisticRegression</label><div class=\"sk-toggleable__content\"><pre>LogisticRegression(penalty=&#x27;l1&#x27;, solver=&#x27;liblinear&#x27;)</pre></div></div></div></div></div>"
      ],
      "text/plain": [
       "LogisticRegression(penalty='l1', solver='liblinear')"
      ]
     },
     "execution_count": 94,
     "metadata": {},
     "output_type": "execute_result"
    }
   ],
   "source": [
    "model.fit(X_train, y_train)"
   ]
  },
  {
   "cell_type": "markdown",
   "id": "TqaiWmLr47bt",
   "metadata": {
    "id": "TqaiWmLr47bt"
   },
   "source": [
    "## Using Splines to transform the features"
   ]
  },
  {
   "cell_type": "code",
   "execution_count": null,
   "id": "9NAuJy68jSAi",
   "metadata": {
    "id": "9NAuJy68jSAi"
   },
   "outputs": [],
   "source": [
    "X_splines = dmatrix(\"bs(data['Time'], df=4, include_intercept=False)\", {\"data\": data})"
   ]
  },
  {
   "cell_type": "markdown",
   "id": "gVHvsbY34ytG",
   "metadata": {
    "id": "gVHvsbY34ytG"
   },
   "source": [
    "Polynomial regression model using spline regularisation:"
   ]
  },
  {
   "cell_type": "code",
   "execution_count": null,
   "id": "kUuPZaryjR00",
   "metadata": {
    "colab": {
     "base_uri": "https://localhost:8080/",
     "height": 126
    },
    "id": "kUuPZaryjR00",
    "outputId": "807c1b88-4329-4d8d-ce86-33a3b4b5effd"
   },
   "outputs": [
    {
     "data": {
      "text/html": [
       "<style>#sk-container-id-10 {color: black;background-color: white;}#sk-container-id-10 pre{padding: 0;}#sk-container-id-10 div.sk-toggleable {background-color: white;}#sk-container-id-10 label.sk-toggleable__label {cursor: pointer;display: block;width: 100%;margin-bottom: 0;padding: 0.3em;box-sizing: border-box;text-align: center;}#sk-container-id-10 label.sk-toggleable__label-arrow:before {content: \"▸\";float: left;margin-right: 0.25em;color: #696969;}#sk-container-id-10 label.sk-toggleable__label-arrow:hover:before {color: black;}#sk-container-id-10 div.sk-estimator:hover label.sk-toggleable__label-arrow:before {color: black;}#sk-container-id-10 div.sk-toggleable__content {max-height: 0;max-width: 0;overflow: hidden;text-align: left;background-color: #f0f8ff;}#sk-container-id-10 div.sk-toggleable__content pre {margin: 0.2em;color: black;border-radius: 0.25em;background-color: #f0f8ff;}#sk-container-id-10 input.sk-toggleable__control:checked~div.sk-toggleable__content {max-height: 200px;max-width: 100%;overflow: auto;}#sk-container-id-10 input.sk-toggleable__control:checked~label.sk-toggleable__label-arrow:before {content: \"▾\";}#sk-container-id-10 div.sk-estimator input.sk-toggleable__control:checked~label.sk-toggleable__label {background-color: #d4ebff;}#sk-container-id-10 div.sk-label input.sk-toggleable__control:checked~label.sk-toggleable__label {background-color: #d4ebff;}#sk-container-id-10 input.sk-hidden--visually {border: 0;clip: rect(1px 1px 1px 1px);clip: rect(1px, 1px, 1px, 1px);height: 1px;margin: -1px;overflow: hidden;padding: 0;position: absolute;width: 1px;}#sk-container-id-10 div.sk-estimator {font-family: monospace;background-color: #f0f8ff;border: 1px dotted black;border-radius: 0.25em;box-sizing: border-box;margin-bottom: 0.5em;}#sk-container-id-10 div.sk-estimator:hover {background-color: #d4ebff;}#sk-container-id-10 div.sk-parallel-item::after {content: \"\";width: 100%;border-bottom: 1px solid gray;flex-grow: 1;}#sk-container-id-10 div.sk-label:hover label.sk-toggleable__label {background-color: #d4ebff;}#sk-container-id-10 div.sk-serial::before {content: \"\";position: absolute;border-left: 1px solid gray;box-sizing: border-box;top: 0;bottom: 0;left: 50%;z-index: 0;}#sk-container-id-10 div.sk-serial {display: flex;flex-direction: column;align-items: center;background-color: white;padding-right: 0.2em;padding-left: 0.2em;position: relative;}#sk-container-id-10 div.sk-item {position: relative;z-index: 1;}#sk-container-id-10 div.sk-parallel {display: flex;align-items: stretch;justify-content: center;background-color: white;position: relative;}#sk-container-id-10 div.sk-item::before, #sk-container-id-10 div.sk-parallel-item::before {content: \"\";position: absolute;border-left: 1px solid gray;box-sizing: border-box;top: 0;bottom: 0;left: 50%;z-index: -1;}#sk-container-id-10 div.sk-parallel-item {display: flex;flex-direction: column;z-index: 1;position: relative;background-color: white;}#sk-container-id-10 div.sk-parallel-item:first-child::after {align-self: flex-end;width: 50%;}#sk-container-id-10 div.sk-parallel-item:last-child::after {align-self: flex-start;width: 50%;}#sk-container-id-10 div.sk-parallel-item:only-child::after {width: 0;}#sk-container-id-10 div.sk-dashed-wrapped {border: 1px dashed gray;margin: 0 0.4em 0.5em 0.4em;box-sizing: border-box;padding-bottom: 0.4em;background-color: white;}#sk-container-id-10 div.sk-label label {font-family: monospace;font-weight: bold;display: inline-block;line-height: 1.2em;}#sk-container-id-10 div.sk-label-container {text-align: center;}#sk-container-id-10 div.sk-container {/* jupyter's `normalize.less` sets `[hidden] { display: none; }` but bootstrap.min.css set `[hidden] { display: none !important; }` so we also need the `!important` here to be able to override the default hidden behavior on the sphinx rendered scikit-learn.org. See: https://github.com/scikit-learn/scikit-learn/issues/21755 */display: inline-block !important;position: relative;}#sk-container-id-10 div.sk-text-repr-fallback {display: none;}</style><div id=\"sk-container-id-10\" class=\"sk-top-container\"><div class=\"sk-text-repr-fallback\"><pre>Pipeline(steps=[(&#x27;polynomialfeatures&#x27;, PolynomialFeatures()),\n",
       "                (&#x27;logisticregression&#x27;,\n",
       "                 LogisticRegression(penalty=&#x27;l1&#x27;, solver=&#x27;liblinear&#x27;))])</pre><b>In a Jupyter environment, please rerun this cell to show the HTML representation or trust the notebook. <br />On GitHub, the HTML representation is unable to render, please try loading this page with nbviewer.org.</b></div><div class=\"sk-container\" hidden><div class=\"sk-item sk-dashed-wrapped\"><div class=\"sk-label-container\"><div class=\"sk-label sk-toggleable\"><input class=\"sk-toggleable__control sk-hidden--visually\" id=\"sk-estimator-id-18\" type=\"checkbox\" ><label for=\"sk-estimator-id-18\" class=\"sk-toggleable__label sk-toggleable__label-arrow\">Pipeline</label><div class=\"sk-toggleable__content\"><pre>Pipeline(steps=[(&#x27;polynomialfeatures&#x27;, PolynomialFeatures()),\n",
       "                (&#x27;logisticregression&#x27;,\n",
       "                 LogisticRegression(penalty=&#x27;l1&#x27;, solver=&#x27;liblinear&#x27;))])</pre></div></div></div><div class=\"sk-serial\"><div class=\"sk-item\"><div class=\"sk-estimator sk-toggleable\"><input class=\"sk-toggleable__control sk-hidden--visually\" id=\"sk-estimator-id-19\" type=\"checkbox\" ><label for=\"sk-estimator-id-19\" class=\"sk-toggleable__label sk-toggleable__label-arrow\">PolynomialFeatures</label><div class=\"sk-toggleable__content\"><pre>PolynomialFeatures()</pre></div></div></div><div class=\"sk-item\"><div class=\"sk-estimator sk-toggleable\"><input class=\"sk-toggleable__control sk-hidden--visually\" id=\"sk-estimator-id-20\" type=\"checkbox\" ><label for=\"sk-estimator-id-20\" class=\"sk-toggleable__label sk-toggleable__label-arrow\">LogisticRegression</label><div class=\"sk-toggleable__content\"><pre>LogisticRegression(penalty=&#x27;l1&#x27;, solver=&#x27;liblinear&#x27;)</pre></div></div></div></div></div></div></div>"
      ],
      "text/plain": [
       "Pipeline(steps=[('polynomialfeatures', PolynomialFeatures()),\n",
       "                ('logisticregression',\n",
       "                 LogisticRegression(penalty='l1', solver='liblinear'))])"
      ]
     },
     "execution_count": 99,
     "metadata": {},
     "output_type": "execute_result"
    }
   ],
   "source": [
    "poly_model = make_pipeline(PolynomialFeatures(2), model)\n",
    "poly_model.fit(X_splines, y)"
   ]
  },
  {
   "cell_type": "code",
   "execution_count": null,
   "id": "Q9WdxVbNk8Vz",
   "metadata": {
    "colab": {
     "base_uri": "https://localhost:8080/"
    },
    "id": "Q9WdxVbNk8Vz",
    "outputId": "aef38d44-f82f-4e15-8812-404888fe2adf"
   },
   "outputs": [
    {
     "name": "stdout",
     "output_type": "stream",
     "text": [
      "Accuracy: 57.05233025944507 %\n"
     ]
    }
   ],
   "source": [
    "# Print the accuracy of the model\n",
    "accuracy = poly_model.score(X_splines, y)\n",
    "print(\"Accuracy:\", accuracy*100, '%')"
   ]
  },
  {
   "cell_type": "markdown",
   "id": "zciSfmVP68qA",
   "metadata": {
    "id": "zciSfmVP68qA"
   },
   "source": [
    "### Polynomial regression without spline regularisation"
   ]
  },
  {
   "cell_type": "code",
   "execution_count": null,
   "id": "N9kwdR-n6Mho",
   "metadata": {
    "id": "N9kwdR-n6Mho"
   },
   "outputs": [],
   "source": [
    "# Create polynomial features with degree 2\n",
    "poly = PolynomialFeatures(degree=2)\n",
    "X_train_poly = poly.fit_transform(X_train)\n",
    "X_test_poly = poly.transform(X_test)"
   ]
  },
  {
   "cell_type": "code",
   "execution_count": null,
   "id": "I-zMsbkn7EHm",
   "metadata": {
    "colab": {
     "base_uri": "https://localhost:8080/",
     "height": 75
    },
    "id": "I-zMsbkn7EHm",
    "outputId": "9c278ead-b86b-4f07-8484-6cac15fd867f"
   },
   "outputs": [
    {
     "data": {
      "text/html": [
       "<style>#sk-container-id-11 {color: black;background-color: white;}#sk-container-id-11 pre{padding: 0;}#sk-container-id-11 div.sk-toggleable {background-color: white;}#sk-container-id-11 label.sk-toggleable__label {cursor: pointer;display: block;width: 100%;margin-bottom: 0;padding: 0.3em;box-sizing: border-box;text-align: center;}#sk-container-id-11 label.sk-toggleable__label-arrow:before {content: \"▸\";float: left;margin-right: 0.25em;color: #696969;}#sk-container-id-11 label.sk-toggleable__label-arrow:hover:before {color: black;}#sk-container-id-11 div.sk-estimator:hover label.sk-toggleable__label-arrow:before {color: black;}#sk-container-id-11 div.sk-toggleable__content {max-height: 0;max-width: 0;overflow: hidden;text-align: left;background-color: #f0f8ff;}#sk-container-id-11 div.sk-toggleable__content pre {margin: 0.2em;color: black;border-radius: 0.25em;background-color: #f0f8ff;}#sk-container-id-11 input.sk-toggleable__control:checked~div.sk-toggleable__content {max-height: 200px;max-width: 100%;overflow: auto;}#sk-container-id-11 input.sk-toggleable__control:checked~label.sk-toggleable__label-arrow:before {content: \"▾\";}#sk-container-id-11 div.sk-estimator input.sk-toggleable__control:checked~label.sk-toggleable__label {background-color: #d4ebff;}#sk-container-id-11 div.sk-label input.sk-toggleable__control:checked~label.sk-toggleable__label {background-color: #d4ebff;}#sk-container-id-11 input.sk-hidden--visually {border: 0;clip: rect(1px 1px 1px 1px);clip: rect(1px, 1px, 1px, 1px);height: 1px;margin: -1px;overflow: hidden;padding: 0;position: absolute;width: 1px;}#sk-container-id-11 div.sk-estimator {font-family: monospace;background-color: #f0f8ff;border: 1px dotted black;border-radius: 0.25em;box-sizing: border-box;margin-bottom: 0.5em;}#sk-container-id-11 div.sk-estimator:hover {background-color: #d4ebff;}#sk-container-id-11 div.sk-parallel-item::after {content: \"\";width: 100%;border-bottom: 1px solid gray;flex-grow: 1;}#sk-container-id-11 div.sk-label:hover label.sk-toggleable__label {background-color: #d4ebff;}#sk-container-id-11 div.sk-serial::before {content: \"\";position: absolute;border-left: 1px solid gray;box-sizing: border-box;top: 0;bottom: 0;left: 50%;z-index: 0;}#sk-container-id-11 div.sk-serial {display: flex;flex-direction: column;align-items: center;background-color: white;padding-right: 0.2em;padding-left: 0.2em;position: relative;}#sk-container-id-11 div.sk-item {position: relative;z-index: 1;}#sk-container-id-11 div.sk-parallel {display: flex;align-items: stretch;justify-content: center;background-color: white;position: relative;}#sk-container-id-11 div.sk-item::before, #sk-container-id-11 div.sk-parallel-item::before {content: \"\";position: absolute;border-left: 1px solid gray;box-sizing: border-box;top: 0;bottom: 0;left: 50%;z-index: -1;}#sk-container-id-11 div.sk-parallel-item {display: flex;flex-direction: column;z-index: 1;position: relative;background-color: white;}#sk-container-id-11 div.sk-parallel-item:first-child::after {align-self: flex-end;width: 50%;}#sk-container-id-11 div.sk-parallel-item:last-child::after {align-self: flex-start;width: 50%;}#sk-container-id-11 div.sk-parallel-item:only-child::after {width: 0;}#sk-container-id-11 div.sk-dashed-wrapped {border: 1px dashed gray;margin: 0 0.4em 0.5em 0.4em;box-sizing: border-box;padding-bottom: 0.4em;background-color: white;}#sk-container-id-11 div.sk-label label {font-family: monospace;font-weight: bold;display: inline-block;line-height: 1.2em;}#sk-container-id-11 div.sk-label-container {text-align: center;}#sk-container-id-11 div.sk-container {/* jupyter's `normalize.less` sets `[hidden] { display: none; }` but bootstrap.min.css set `[hidden] { display: none !important; }` so we also need the `!important` here to be able to override the default hidden behavior on the sphinx rendered scikit-learn.org. See: https://github.com/scikit-learn/scikit-learn/issues/21755 */display: inline-block !important;position: relative;}#sk-container-id-11 div.sk-text-repr-fallback {display: none;}</style><div id=\"sk-container-id-11\" class=\"sk-top-container\"><div class=\"sk-text-repr-fallback\"><pre>LinearRegression()</pre><b>In a Jupyter environment, please rerun this cell to show the HTML representation or trust the notebook. <br />On GitHub, the HTML representation is unable to render, please try loading this page with nbviewer.org.</b></div><div class=\"sk-container\" hidden><div class=\"sk-item\"><div class=\"sk-estimator sk-toggleable\"><input class=\"sk-toggleable__control sk-hidden--visually\" id=\"sk-estimator-id-21\" type=\"checkbox\" checked><label for=\"sk-estimator-id-21\" class=\"sk-toggleable__label sk-toggleable__label-arrow\">LinearRegression</label><div class=\"sk-toggleable__content\"><pre>LinearRegression()</pre></div></div></div></div></div>"
      ],
      "text/plain": [
       "LinearRegression()"
      ]
     },
     "execution_count": 103,
     "metadata": {},
     "output_type": "execute_result"
    }
   ],
   "source": [
    "model = LinearRegression()\n",
    "model.fit(X_train_poly, y_train)"
   ]
  },
  {
   "cell_type": "code",
   "execution_count": null,
   "id": "u1Ju1T-z7EEv",
   "metadata": {
    "id": "u1Ju1T-z7EEv"
   },
   "outputs": [],
   "source": [
    "y_pred = model.predict(X_test_poly)"
   ]
  },
  {
   "cell_type": "code",
   "execution_count": null,
   "id": "TMR6KzS47Rkj",
   "metadata": {
    "colab": {
     "base_uri": "https://localhost:8080/"
    },
    "id": "TMR6KzS47Rkj",
    "outputId": "6aaa44de-cc59-440a-b711-248e597daa75"
   },
   "outputs": [
    {
     "name": "stdout",
     "output_type": "stream",
     "text": [
      "Accuracy: 0.045893065939310085\n"
     ]
    }
   ],
   "source": [
    "# Calculate the R2 score\n",
    "accuracy = r2_score(y_test, y_pred)\n",
    "print(\"Accuracy:\", accuracy)"
   ]
  },
  {
   "cell_type": "code",
   "execution_count": null,
   "id": "wNvIT1mC-FBf",
   "metadata": {
    "colab": {
     "base_uri": "https://localhost:8080/"
    },
    "id": "wNvIT1mC-FBf",
    "outputId": "44f8f912-5e85-4b62-ec30-f8c8d993edef"
   },
   "outputs": [
    {
     "name": "stdout",
     "output_type": "stream",
     "text": [
      "Mean squared error: 0.23579197799525078\n"
     ]
    }
   ],
   "source": [
    "mse = mean_squared_error(y_test, y_pred)\n",
    "print(\"Mean squared error:\", mse)"
   ]
  },
  {
   "cell_type": "markdown",
   "id": "G4s1lPYW53ss",
   "metadata": {
    "id": "G4s1lPYW53ss"
   },
   "source": [
    "### Conclusion: As observed, after performing spline regularisation on the Polynomial regression model our accuracy is more than the polynomial regression r2 score\n"
   ]
  },
  {
   "cell_type": "markdown",
   "id": "y_uWBwmibzP2",
   "metadata": {
    "id": "y_uWBwmibzP2"
   },
   "source": [
    "Experimenting: RandomForestClassifier Model to see if accuracy is improving "
   ]
  },
  {
   "cell_type": "code",
   "execution_count": null,
   "id": "LIaPIwY4VBbk",
   "metadata": {
    "colab": {
     "base_uri": "https://localhost:8080/",
     "height": 75
    },
    "id": "LIaPIwY4VBbk",
    "outputId": "d0ed959b-3dba-47e7-8a37-936f5332056c"
   },
   "outputs": [
    {
     "data": {
      "text/html": [
       "<style>#sk-container-id-8 {color: black;background-color: white;}#sk-container-id-8 pre{padding: 0;}#sk-container-id-8 div.sk-toggleable {background-color: white;}#sk-container-id-8 label.sk-toggleable__label {cursor: pointer;display: block;width: 100%;margin-bottom: 0;padding: 0.3em;box-sizing: border-box;text-align: center;}#sk-container-id-8 label.sk-toggleable__label-arrow:before {content: \"▸\";float: left;margin-right: 0.25em;color: #696969;}#sk-container-id-8 label.sk-toggleable__label-arrow:hover:before {color: black;}#sk-container-id-8 div.sk-estimator:hover label.sk-toggleable__label-arrow:before {color: black;}#sk-container-id-8 div.sk-toggleable__content {max-height: 0;max-width: 0;overflow: hidden;text-align: left;background-color: #f0f8ff;}#sk-container-id-8 div.sk-toggleable__content pre {margin: 0.2em;color: black;border-radius: 0.25em;background-color: #f0f8ff;}#sk-container-id-8 input.sk-toggleable__control:checked~div.sk-toggleable__content {max-height: 200px;max-width: 100%;overflow: auto;}#sk-container-id-8 input.sk-toggleable__control:checked~label.sk-toggleable__label-arrow:before {content: \"▾\";}#sk-container-id-8 div.sk-estimator input.sk-toggleable__control:checked~label.sk-toggleable__label {background-color: #d4ebff;}#sk-container-id-8 div.sk-label input.sk-toggleable__control:checked~label.sk-toggleable__label {background-color: #d4ebff;}#sk-container-id-8 input.sk-hidden--visually {border: 0;clip: rect(1px 1px 1px 1px);clip: rect(1px, 1px, 1px, 1px);height: 1px;margin: -1px;overflow: hidden;padding: 0;position: absolute;width: 1px;}#sk-container-id-8 div.sk-estimator {font-family: monospace;background-color: #f0f8ff;border: 1px dotted black;border-radius: 0.25em;box-sizing: border-box;margin-bottom: 0.5em;}#sk-container-id-8 div.sk-estimator:hover {background-color: #d4ebff;}#sk-container-id-8 div.sk-parallel-item::after {content: \"\";width: 100%;border-bottom: 1px solid gray;flex-grow: 1;}#sk-container-id-8 div.sk-label:hover label.sk-toggleable__label {background-color: #d4ebff;}#sk-container-id-8 div.sk-serial::before {content: \"\";position: absolute;border-left: 1px solid gray;box-sizing: border-box;top: 0;bottom: 0;left: 50%;z-index: 0;}#sk-container-id-8 div.sk-serial {display: flex;flex-direction: column;align-items: center;background-color: white;padding-right: 0.2em;padding-left: 0.2em;position: relative;}#sk-container-id-8 div.sk-item {position: relative;z-index: 1;}#sk-container-id-8 div.sk-parallel {display: flex;align-items: stretch;justify-content: center;background-color: white;position: relative;}#sk-container-id-8 div.sk-item::before, #sk-container-id-8 div.sk-parallel-item::before {content: \"\";position: absolute;border-left: 1px solid gray;box-sizing: border-box;top: 0;bottom: 0;left: 50%;z-index: -1;}#sk-container-id-8 div.sk-parallel-item {display: flex;flex-direction: column;z-index: 1;position: relative;background-color: white;}#sk-container-id-8 div.sk-parallel-item:first-child::after {align-self: flex-end;width: 50%;}#sk-container-id-8 div.sk-parallel-item:last-child::after {align-self: flex-start;width: 50%;}#sk-container-id-8 div.sk-parallel-item:only-child::after {width: 0;}#sk-container-id-8 div.sk-dashed-wrapped {border: 1px dashed gray;margin: 0 0.4em 0.5em 0.4em;box-sizing: border-box;padding-bottom: 0.4em;background-color: white;}#sk-container-id-8 div.sk-label label {font-family: monospace;font-weight: bold;display: inline-block;line-height: 1.2em;}#sk-container-id-8 div.sk-label-container {text-align: center;}#sk-container-id-8 div.sk-container {/* jupyter's `normalize.less` sets `[hidden] { display: none; }` but bootstrap.min.css set `[hidden] { display: none !important; }` so we also need the `!important` here to be able to override the default hidden behavior on the sphinx rendered scikit-learn.org. See: https://github.com/scikit-learn/scikit-learn/issues/21755 */display: inline-block !important;position: relative;}#sk-container-id-8 div.sk-text-repr-fallback {display: none;}</style><div id=\"sk-container-id-8\" class=\"sk-top-container\"><div class=\"sk-text-repr-fallback\"><pre>RandomForestClassifier(max_depth=10, n_estimators=60)</pre><b>In a Jupyter environment, please rerun this cell to show the HTML representation or trust the notebook. <br />On GitHub, the HTML representation is unable to render, please try loading this page with nbviewer.org.</b></div><div class=\"sk-container\" hidden><div class=\"sk-item\"><div class=\"sk-estimator sk-toggleable\"><input class=\"sk-toggleable__control sk-hidden--visually\" id=\"sk-estimator-id-8\" type=\"checkbox\" checked><label for=\"sk-estimator-id-8\" class=\"sk-toggleable__label sk-toggleable__label-arrow\">RandomForestClassifier</label><div class=\"sk-toggleable__content\"><pre>RandomForestClassifier(max_depth=10, n_estimators=60)</pre></div></div></div></div></div>"
      ],
      "text/plain": [
       "RandomForestClassifier(max_depth=10, n_estimators=60)"
      ]
     },
     "execution_count": 75,
     "metadata": {},
     "output_type": "execute_result"
    }
   ],
   "source": [
    "\n",
    "rf = RandomForestClassifier(n_estimators=60, max_depth=10)\n",
    "rf.fit(X_train, y_train)"
   ]
  },
  {
   "cell_type": "code",
   "execution_count": null,
   "id": "hC-qc6uTWyQK",
   "metadata": {
    "colab": {
     "base_uri": "https://localhost:8080/"
    },
    "id": "hC-qc6uTWyQK",
    "outputId": "96f4f79b-b522-43dc-d3d5-17ba4c7a83d4"
   },
   "outputs": [
    {
     "name": "stdout",
     "output_type": "stream",
     "text": [
      "RandomForestClassifier Accuracy: 65.18534998192386 %\n"
     ]
    }
   ],
   "source": [
    "rf_pred = rf.predict(X_test)\n",
    "rf_accuracy = accuracy_score(y_test, y_pred)\n",
    "print(\"RandomForestClassifier Accuracy:\", rf_accuracy*100,\"%\")"
   ]
  },
  {
   "cell_type": "code",
   "execution_count": null,
   "id": "7sWxeoK7Wymg",
   "metadata": {
    "colab": {
     "base_uri": "https://localhost:8080/"
    },
    "id": "7sWxeoK7Wymg",
    "outputId": "a138b061-71d2-4c78-88a7-b576016678fc"
   },
   "outputs": [
    {
     "name": "stdout",
     "output_type": "stream",
     "text": [
      "Precision: 0.6865151941474396\n"
     ]
    }
   ],
   "source": [
    "print(\"Precision:\", precision_score(y_test, rf_pred))\n"
   ]
  },
  {
   "cell_type": "markdown",
   "id": "koUu92jbcfZ1",
   "metadata": {
    "id": "koUu92jbcfZ1"
   },
   "source": [
    "As observed, RandomForestClassifier has 65.18% accuracy, thus it is the best model for our prediction, with a precision of 0.68"
   ]
  },
  {
   "cell_type": "markdown",
   "id": "wBrALf2fDwOi",
   "metadata": {
    "id": "wBrALf2fDwOi"
   },
   "source": [
    "# Conclusion :\n",
    "\n",
    "Based on the analysis and modeling performed in the project, the following conclusions can be drawn:\n",
    "\n",
    "The dataset provided contains information about airline delays, including the time of the delay, length of the delay, airline, origin airport, destination airport, day of the week, and class.\n",
    "\n",
    "As our sample size is large, due to the central limit theorem the data is considered to be normal. We used Z-test to determine whether 2 sample means are different or not and found out that that there is significant difference between the 2 sample means. Further, we used the F-test for the analysis and concluded that there is no significant difference in the means of the different groups (airlines and class).\n",
    "\n",
    "Exploratory data analysis revealed that delays tend to occur more frequently on certain airlines, at certain airports, and on certain days of the week.\n",
    "\n",
    "During our analysis of categorical data, we performed chi-square test and summarised that there is a dependency of the categorical variables on the 'Class' attribute. \n",
    "\n",
    "Logistic regression was performed to predict the length of a delay based on the other variables in the dataset; achieved accuracy of 58.17%\n",
    "\n",
    "Resampling techniques, Cross Validation and bootstrapping, were used to estimate the variability of the model's accuracy and to assess the impact of different modeling choices. \n",
    "\n",
    "Performed ridge and lasso regression to regularise our Logistic Regression Model with Ridge accuracy being 58.17 % and Lasso regression accuracy being 56.80%. We also moved beyond linearity and performed polynomial regression on our data. We regularised the features with splines and gained accuracy of 57.05%. Understanding that Logistic Regression is the best fit for our model. \n",
    "\n",
    "Overall, the project provides valuable insights into the factors that contribute to airline delays and demonstrates how machine learning techniques can be used to predict delay times with reasonable accuracy."
   ]
  },
  {
   "cell_type": "markdown",
   "id": "1950d65d",
   "metadata": {
    "id": "1950d65d"
   },
   "source": [
    "## References:\n",
    "https://www.kaggle.com/code/mckayla/airlines-delay/notebook \n",
    "\n",
    "https://www.google.com/\n",
    "\n",
    "* Rice, J. A. (2006). Mathematical statistics and data analysis. Cengage Learning.\n",
    "\n",
    "* James, G., Witten, D., Hastie, T., & Tibshirani, R. (2015). An Introduction to Statistical Learning with Applications in R, Edn. 6th.\n",
    "\n",
    "* Pawar, Aishwarya. (2022). Data Analysis Using Statistical Methods: Case Study of Categorizing the Species of Penguin\n"
   ]
  },
  {
   "cell_type": "code",
   "execution_count": null,
   "id": "870d5d04",
   "metadata": {
    "id": "870d5d04"
   },
   "outputs": [],
   "source": []
  }
 ],
 "metadata": {
  "colab": {
   "provenance": []
  },
  "gpuClass": "standard",
  "kernelspec": {
   "display_name": "Python 3 (ipykernel)",
   "language": "python",
   "name": "python3"
  },
  "language_info": {
   "codemirror_mode": {
    "name": "ipython",
    "version": 3
   },
   "file_extension": ".py",
   "mimetype": "text/x-python",
   "name": "python",
   "nbconvert_exporter": "python",
   "pygments_lexer": "ipython3",
   "version": "3.9.7"
  }
 },
 "nbformat": 4,
 "nbformat_minor": 5
}
